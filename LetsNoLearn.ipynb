{
 "metadata": {
  "name": "",
  "signature": "sha256:e11ca56e3ba1b1be3de69cf31932100f793774fba8184c7b87e2680c6ed7e2ef"
 },
 "nbformat": 3,
 "nbformat_minor": 0,
 "worksheets": [
  {
   "cells": [
    {
     "cell_type": "code",
     "collapsed": false,
     "input": [
      "# import the necessary packages\n",
      "from sklearn.cross_validation import train_test_split\n",
      "from sklearn.metrics import classification_report\n",
      "from sklearn import datasets\n",
      "from nolearn.dbn import DBN\n",
      "import numpy as np\n",
      "import cv2"
     ],
     "language": "python",
     "metadata": {},
     "outputs": [
      {
       "output_type": "stream",
       "stream": "stdout",
       "text": [
        "gnumpy: failed to import cudamat. Using npmat instead. No GPU will be used.\n"
       ]
      },
      {
       "output_type": "stream",
       "stream": "stderr",
       "text": [
        "/usr/local/lib/python2.7/dist-packages/nolearn/dbn.py:17: UserWarning: \n",
        "The nolearn.dbn module will be removed in nolearn 0.6.  If you want to\n",
        "continue to use this module, please consider copying the code into\n",
        "your own project.  And take a look at Lasagne and nolearn.lasagne for\n",
        "a better neural net toolkit.\n",
        "\n",
        "  \"\"\")\n"
       ]
      }
     ],
     "prompt_number": 1
    },
    {
     "cell_type": "code",
     "collapsed": false,
     "input": [
      "# grab the MNIST dataset (if this is the first time you are running\n",
      "# this script, this make take a minute -- the 55mb MNIST digit dataset\n",
      "# will be downloaded)\n",
      "print \"[X] downloading data...\"\n",
      "dataset = datasets.fetch_mldata(\"MNIST Original\")\n",
      "\n"
     ],
     "language": "python",
     "metadata": {},
     "outputs": [
      {
       "output_type": "stream",
       "stream": "stdout",
       "text": [
        "[X] downloading data...\n"
       ]
      }
     ],
     "prompt_number": 2
    },
    {
     "cell_type": "code",
     "collapsed": false,
     "input": [
      "dataset"
     ],
     "language": "python",
     "metadata": {},
     "outputs": [
      {
       "metadata": {},
       "output_type": "pyout",
       "prompt_number": 5,
       "text": [
        "{'COL_NAMES': ['label', 'data'],\n",
        " 'DESCR': 'mldata.org dataset: mnist-original',\n",
        " 'data': array([[0, 0, 0, ..., 0, 0, 0],\n",
        "       [0, 0, 0, ..., 0, 0, 0],\n",
        "       [0, 0, 0, ..., 0, 0, 0],\n",
        "       ..., \n",
        "       [0, 0, 0, ..., 0, 0, 0],\n",
        "       [0, 0, 0, ..., 0, 0, 0],\n",
        "       [0, 0, 0, ..., 0, 0, 0]], dtype=uint8),\n",
        " 'target': array([ 0.,  0.,  0., ...,  9.,  9.,  9.])}"
       ]
      }
     ],
     "prompt_number": 5
    },
    {
     "cell_type": "code",
     "collapsed": false,
     "input": [
      "# scale the data to the range [0, 1] and then construct the training\n",
      "# and testing splits\n",
      "(trainX, testX, trainY, testY) = train_test_split(\n",
      "\tdataset.data / 255.0, dataset.target.astype(\"int0\"), test_size = 0.33)"
     ],
     "language": "python",
     "metadata": {},
     "outputs": [],
     "prompt_number": 6
    },
    {
     "cell_type": "code",
     "collapsed": false,
     "input": [
      "# train the Deep Belief Network with 784 input units (the flattened,\n",
      "# 28x28 grayscale image), 300 hidden units, 10 output units (one for\n",
      "# each possible output classification, which are the digits 1-10)\n",
      "dbn = DBN(\n",
      "\t[trainX.shape[1], 300, 10],\n",
      "\tlearn_rates = 0.3,\n",
      "\tlearn_rate_decays = 0.9,\n",
      "\tepochs = 10,\n",
      "\tverbose = 1)\n",
      "dbn.fit(trainX, trainY)"
     ],
     "language": "python",
     "metadata": {},
     "outputs": [
      {
       "output_type": "stream",
       "stream": "stdout",
       "text": [
        "[DBN] fitting X.shape=(46900, 784)\n",
        "[DBN] layers [784, 300, 10]"
       ]
      },
      {
       "output_type": "stream",
       "stream": "stdout",
       "text": [
        "\n",
        "[DBN] Fine-tune..."
       ]
      },
      {
       "output_type": "stream",
       "stream": "stderr",
       "text": [
        "1%\r"
       ]
      },
      {
       "output_type": "stream",
       "stream": "stderr",
       "text": [
        "2%\r"
       ]
      },
      {
       "output_type": "stream",
       "stream": "stderr",
       "text": [
        "3%\r"
       ]
      },
      {
       "output_type": "stream",
       "stream": "stderr",
       "text": [
        "4%\r"
       ]
      },
      {
       "output_type": "stream",
       "stream": "stderr",
       "text": [
        "5%\r"
       ]
      },
      {
       "output_type": "stream",
       "stream": "stderr",
       "text": [
        "6%\r"
       ]
      },
      {
       "output_type": "stream",
       "stream": "stderr",
       "text": [
        "7%\r"
       ]
      },
      {
       "output_type": "stream",
       "stream": "stderr",
       "text": [
        "8%\r"
       ]
      },
      {
       "output_type": "stream",
       "stream": "stderr",
       "text": [
        "9%\r"
       ]
      },
      {
       "output_type": "stream",
       "stream": "stderr",
       "text": [
        "10%\r"
       ]
      },
      {
       "output_type": "stream",
       "stream": "stderr",
       "text": [
        "11%\r"
       ]
      },
      {
       "output_type": "stream",
       "stream": "stderr",
       "text": [
        "12%\r"
       ]
      },
      {
       "output_type": "stream",
       "stream": "stderr",
       "text": [
        "13%\r"
       ]
      },
      {
       "output_type": "stream",
       "stream": "stderr",
       "text": [
        "14%\r"
       ]
      },
      {
       "output_type": "stream",
       "stream": "stderr",
       "text": [
        "15%\r"
       ]
      },
      {
       "output_type": "stream",
       "stream": "stderr",
       "text": [
        "16%\r"
       ]
      },
      {
       "output_type": "stream",
       "stream": "stderr",
       "text": [
        "17%\r"
       ]
      },
      {
       "output_type": "stream",
       "stream": "stderr",
       "text": [
        "18%\r"
       ]
      },
      {
       "output_type": "stream",
       "stream": "stderr",
       "text": [
        "19%\r"
       ]
      },
      {
       "output_type": "stream",
       "stream": "stderr",
       "text": [
        "20%\r"
       ]
      },
      {
       "output_type": "stream",
       "stream": "stderr",
       "text": [
        "21%\r"
       ]
      },
      {
       "output_type": "stream",
       "stream": "stderr",
       "text": [
        "22%\r"
       ]
      },
      {
       "output_type": "stream",
       "stream": "stderr",
       "text": [
        "23%\r"
       ]
      },
      {
       "output_type": "stream",
       "stream": "stderr",
       "text": [
        "24%\r"
       ]
      },
      {
       "output_type": "stream",
       "stream": "stderr",
       "text": [
        "25%\r"
       ]
      },
      {
       "output_type": "stream",
       "stream": "stderr",
       "text": [
        "26%\r"
       ]
      },
      {
       "output_type": "stream",
       "stream": "stderr",
       "text": [
        "27%\r"
       ]
      },
      {
       "output_type": "stream",
       "stream": "stderr",
       "text": [
        "28%\r"
       ]
      },
      {
       "output_type": "stream",
       "stream": "stderr",
       "text": [
        "29%\r"
       ]
      },
      {
       "output_type": "stream",
       "stream": "stderr",
       "text": [
        "30%\r"
       ]
      },
      {
       "output_type": "stream",
       "stream": "stderr",
       "text": [
        "31%\r"
       ]
      },
      {
       "output_type": "stream",
       "stream": "stderr",
       "text": [
        "32%\r"
       ]
      },
      {
       "output_type": "stream",
       "stream": "stderr",
       "text": [
        "33%\r"
       ]
      },
      {
       "output_type": "stream",
       "stream": "stderr",
       "text": [
        "34%\r"
       ]
      },
      {
       "output_type": "stream",
       "stream": "stderr",
       "text": [
        "35%\r"
       ]
      },
      {
       "output_type": "stream",
       "stream": "stderr",
       "text": [
        "36%\r"
       ]
      },
      {
       "output_type": "stream",
       "stream": "stderr",
       "text": [
        "37%\r"
       ]
      },
      {
       "output_type": "stream",
       "stream": "stderr",
       "text": [
        "38%\r"
       ]
      },
      {
       "output_type": "stream",
       "stream": "stderr",
       "text": [
        "39%\r"
       ]
      },
      {
       "output_type": "stream",
       "stream": "stderr",
       "text": [
        "40%\r"
       ]
      },
      {
       "output_type": "stream",
       "stream": "stderr",
       "text": [
        "41%\r"
       ]
      },
      {
       "output_type": "stream",
       "stream": "stderr",
       "text": [
        "42%\r"
       ]
      },
      {
       "output_type": "stream",
       "stream": "stderr",
       "text": [
        "43%\r"
       ]
      },
      {
       "output_type": "stream",
       "stream": "stderr",
       "text": [
        "44%\r"
       ]
      },
      {
       "output_type": "stream",
       "stream": "stderr",
       "text": [
        "45%\r"
       ]
      },
      {
       "output_type": "stream",
       "stream": "stderr",
       "text": [
        "46%\r"
       ]
      },
      {
       "output_type": "stream",
       "stream": "stderr",
       "text": [
        "47%\r"
       ]
      },
      {
       "output_type": "stream",
       "stream": "stderr",
       "text": [
        "48%\r"
       ]
      },
      {
       "output_type": "stream",
       "stream": "stderr",
       "text": [
        "49%\r"
       ]
      },
      {
       "output_type": "stream",
       "stream": "stderr",
       "text": [
        "50%\r"
       ]
      },
      {
       "output_type": "stream",
       "stream": "stderr",
       "text": [
        "51%\r"
       ]
      },
      {
       "output_type": "stream",
       "stream": "stderr",
       "text": [
        "52%\r"
       ]
      },
      {
       "output_type": "stream",
       "stream": "stderr",
       "text": [
        "53%\r"
       ]
      },
      {
       "output_type": "stream",
       "stream": "stderr",
       "text": [
        "54%\r"
       ]
      },
      {
       "output_type": "stream",
       "stream": "stderr",
       "text": [
        "55%\r"
       ]
      },
      {
       "output_type": "stream",
       "stream": "stderr",
       "text": [
        "56%\r"
       ]
      },
      {
       "output_type": "stream",
       "stream": "stderr",
       "text": [
        "57%\r"
       ]
      },
      {
       "output_type": "stream",
       "stream": "stderr",
       "text": [
        "58%\r"
       ]
      },
      {
       "output_type": "stream",
       "stream": "stderr",
       "text": [
        "59%\r"
       ]
      },
      {
       "output_type": "stream",
       "stream": "stderr",
       "text": [
        "60%\r"
       ]
      },
      {
       "output_type": "stream",
       "stream": "stderr",
       "text": [
        "61%\r"
       ]
      },
      {
       "output_type": "stream",
       "stream": "stderr",
       "text": [
        "62%\r"
       ]
      },
      {
       "output_type": "stream",
       "stream": "stderr",
       "text": [
        "63%\r"
       ]
      },
      {
       "output_type": "stream",
       "stream": "stderr",
       "text": [
        "64%\r"
       ]
      },
      {
       "output_type": "stream",
       "stream": "stderr",
       "text": [
        "65%\r"
       ]
      },
      {
       "output_type": "stream",
       "stream": "stderr",
       "text": [
        "66%\r"
       ]
      },
      {
       "output_type": "stream",
       "stream": "stderr",
       "text": [
        "67%\r"
       ]
      },
      {
       "output_type": "stream",
       "stream": "stderr",
       "text": [
        "68%\r"
       ]
      },
      {
       "output_type": "stream",
       "stream": "stderr",
       "text": [
        "69%\r"
       ]
      },
      {
       "output_type": "stream",
       "stream": "stderr",
       "text": [
        "70%\r"
       ]
      },
      {
       "output_type": "stream",
       "stream": "stderr",
       "text": [
        "71%\r"
       ]
      },
      {
       "output_type": "stream",
       "stream": "stderr",
       "text": [
        "72%\r"
       ]
      },
      {
       "output_type": "stream",
       "stream": "stderr",
       "text": [
        "73%\r"
       ]
      },
      {
       "output_type": "stream",
       "stream": "stderr",
       "text": [
        "74%\r"
       ]
      },
      {
       "output_type": "stream",
       "stream": "stderr",
       "text": [
        "75%\r"
       ]
      },
      {
       "output_type": "stream",
       "stream": "stderr",
       "text": [
        "76%\r"
       ]
      },
      {
       "output_type": "stream",
       "stream": "stderr",
       "text": [
        "77%\r"
       ]
      },
      {
       "output_type": "stream",
       "stream": "stderr",
       "text": [
        "78%\r"
       ]
      },
      {
       "output_type": "stream",
       "stream": "stderr",
       "text": [
        "79%\r"
       ]
      },
      {
       "output_type": "stream",
       "stream": "stderr",
       "text": [
        "80%\r"
       ]
      },
      {
       "output_type": "stream",
       "stream": "stderr",
       "text": [
        "81%\r"
       ]
      },
      {
       "output_type": "stream",
       "stream": "stderr",
       "text": [
        "82%\r"
       ]
      },
      {
       "output_type": "stream",
       "stream": "stderr",
       "text": [
        "83%\r"
       ]
      },
      {
       "output_type": "stream",
       "stream": "stderr",
       "text": [
        "84%\r"
       ]
      },
      {
       "output_type": "stream",
       "stream": "stderr",
       "text": [
        "85%\r"
       ]
      },
      {
       "output_type": "stream",
       "stream": "stderr",
       "text": [
        "86%\r"
       ]
      },
      {
       "output_type": "stream",
       "stream": "stderr",
       "text": [
        "87%\r"
       ]
      },
      {
       "output_type": "stream",
       "stream": "stderr",
       "text": [
        "88%\r"
       ]
      },
      {
       "output_type": "stream",
       "stream": "stderr",
       "text": [
        "89%\r"
       ]
      },
      {
       "output_type": "stream",
       "stream": "stderr",
       "text": [
        "90%\r"
       ]
      },
      {
       "output_type": "stream",
       "stream": "stderr",
       "text": [
        "91%\r"
       ]
      },
      {
       "output_type": "stream",
       "stream": "stderr",
       "text": [
        "92%\r"
       ]
      },
      {
       "output_type": "stream",
       "stream": "stderr",
       "text": [
        "93%\r"
       ]
      },
      {
       "output_type": "stream",
       "stream": "stderr",
       "text": [
        "94%\r"
       ]
      },
      {
       "output_type": "stream",
       "stream": "stderr",
       "text": [
        "95%\r"
       ]
      },
      {
       "output_type": "stream",
       "stream": "stderr",
       "text": [
        "96%\r"
       ]
      },
      {
       "output_type": "stream",
       "stream": "stderr",
       "text": [
        "97%\r"
       ]
      },
      {
       "output_type": "stream",
       "stream": "stderr",
       "text": [
        "98%\r"
       ]
      },
      {
       "output_type": "stream",
       "stream": "stderr",
       "text": [
        "99%\r"
       ]
      },
      {
       "output_type": "stream",
       "stream": "stderr",
       "text": [
        "100%\r"
       ]
      },
      {
       "output_type": "stream",
       "stream": "stderr",
       "text": [
        "100%\n"
       ]
      },
      {
       "output_type": "stream",
       "stream": "stdout",
       "text": [
        "\n",
        "Epoch 1:"
       ]
      },
      {
       "output_type": "stream",
       "stream": "stderr",
       "text": [
        "1%\r"
       ]
      },
      {
       "output_type": "stream",
       "stream": "stderr",
       "text": [
        "2%\r"
       ]
      },
      {
       "output_type": "stream",
       "stream": "stderr",
       "text": [
        "3%\r"
       ]
      },
      {
       "output_type": "stream",
       "stream": "stderr",
       "text": [
        "4%\r"
       ]
      },
      {
       "output_type": "stream",
       "stream": "stderr",
       "text": [
        "5%\r"
       ]
      },
      {
       "output_type": "stream",
       "stream": "stderr",
       "text": [
        "6%\r"
       ]
      },
      {
       "output_type": "stream",
       "stream": "stderr",
       "text": [
        "7%\r"
       ]
      },
      {
       "output_type": "stream",
       "stream": "stderr",
       "text": [
        "8%\r"
       ]
      },
      {
       "output_type": "stream",
       "stream": "stderr",
       "text": [
        "9%\r"
       ]
      },
      {
       "output_type": "stream",
       "stream": "stderr",
       "text": [
        "10%\r"
       ]
      },
      {
       "output_type": "stream",
       "stream": "stderr",
       "text": [
        "11%\r"
       ]
      },
      {
       "output_type": "stream",
       "stream": "stderr",
       "text": [
        "12%\r"
       ]
      },
      {
       "output_type": "stream",
       "stream": "stderr",
       "text": [
        "13%\r"
       ]
      },
      {
       "output_type": "stream",
       "stream": "stderr",
       "text": [
        "14%\r"
       ]
      },
      {
       "output_type": "stream",
       "stream": "stderr",
       "text": [
        "15%\r"
       ]
      },
      {
       "output_type": "stream",
       "stream": "stderr",
       "text": [
        "16%\r"
       ]
      },
      {
       "output_type": "stream",
       "stream": "stderr",
       "text": [
        "17%\r"
       ]
      },
      {
       "output_type": "stream",
       "stream": "stderr",
       "text": [
        "18%\r"
       ]
      },
      {
       "output_type": "stream",
       "stream": "stderr",
       "text": [
        "19%\r"
       ]
      },
      {
       "output_type": "stream",
       "stream": "stderr",
       "text": [
        "20%\r"
       ]
      },
      {
       "output_type": "stream",
       "stream": "stderr",
       "text": [
        "21%\r"
       ]
      },
      {
       "output_type": "stream",
       "stream": "stderr",
       "text": [
        "22%\r"
       ]
      },
      {
       "output_type": "stream",
       "stream": "stderr",
       "text": [
        "23%\r"
       ]
      },
      {
       "output_type": "stream",
       "stream": "stderr",
       "text": [
        "24%\r"
       ]
      },
      {
       "output_type": "stream",
       "stream": "stderr",
       "text": [
        "25%\r"
       ]
      },
      {
       "output_type": "stream",
       "stream": "stderr",
       "text": [
        "26%\r"
       ]
      },
      {
       "output_type": "stream",
       "stream": "stderr",
       "text": [
        "27%\r"
       ]
      },
      {
       "output_type": "stream",
       "stream": "stderr",
       "text": [
        "28%\r"
       ]
      },
      {
       "output_type": "stream",
       "stream": "stderr",
       "text": [
        "29%\r"
       ]
      },
      {
       "output_type": "stream",
       "stream": "stderr",
       "text": [
        "30%\r"
       ]
      },
      {
       "output_type": "stream",
       "stream": "stderr",
       "text": [
        "31%\r"
       ]
      },
      {
       "output_type": "stream",
       "stream": "stderr",
       "text": [
        "32%\r"
       ]
      },
      {
       "output_type": "stream",
       "stream": "stderr",
       "text": [
        "33%\r"
       ]
      },
      {
       "output_type": "stream",
       "stream": "stderr",
       "text": [
        "34%\r"
       ]
      },
      {
       "output_type": "stream",
       "stream": "stderr",
       "text": [
        "35%\r"
       ]
      },
      {
       "output_type": "stream",
       "stream": "stderr",
       "text": [
        "36%\r"
       ]
      },
      {
       "output_type": "stream",
       "stream": "stderr",
       "text": [
        "37%\r"
       ]
      },
      {
       "output_type": "stream",
       "stream": "stderr",
       "text": [
        "38%\r"
       ]
      },
      {
       "output_type": "stream",
       "stream": "stderr",
       "text": [
        "39%\r"
       ]
      },
      {
       "output_type": "stream",
       "stream": "stderr",
       "text": [
        "40%\r"
       ]
      },
      {
       "output_type": "stream",
       "stream": "stderr",
       "text": [
        "41%\r"
       ]
      },
      {
       "output_type": "stream",
       "stream": "stderr",
       "text": [
        "42%\r"
       ]
      },
      {
       "output_type": "stream",
       "stream": "stderr",
       "text": [
        "43%\r"
       ]
      },
      {
       "output_type": "stream",
       "stream": "stderr",
       "text": [
        "44%\r"
       ]
      },
      {
       "output_type": "stream",
       "stream": "stderr",
       "text": [
        "45%\r"
       ]
      },
      {
       "output_type": "stream",
       "stream": "stderr",
       "text": [
        "46%\r"
       ]
      },
      {
       "output_type": "stream",
       "stream": "stderr",
       "text": [
        "47%\r"
       ]
      },
      {
       "output_type": "stream",
       "stream": "stderr",
       "text": [
        "48%\r"
       ]
      },
      {
       "output_type": "stream",
       "stream": "stderr",
       "text": [
        "49%\r"
       ]
      },
      {
       "output_type": "stream",
       "stream": "stderr",
       "text": [
        "50%\r"
       ]
      },
      {
       "output_type": "stream",
       "stream": "stderr",
       "text": [
        "51%\r"
       ]
      },
      {
       "output_type": "stream",
       "stream": "stderr",
       "text": [
        "52%\r"
       ]
      },
      {
       "output_type": "stream",
       "stream": "stderr",
       "text": [
        "53%\r"
       ]
      },
      {
       "output_type": "stream",
       "stream": "stderr",
       "text": [
        "54%\r"
       ]
      },
      {
       "output_type": "stream",
       "stream": "stderr",
       "text": [
        "55%\r"
       ]
      },
      {
       "output_type": "stream",
       "stream": "stderr",
       "text": [
        "56%\r"
       ]
      },
      {
       "output_type": "stream",
       "stream": "stderr",
       "text": [
        "57%\r"
       ]
      },
      {
       "output_type": "stream",
       "stream": "stderr",
       "text": [
        "58%\r"
       ]
      },
      {
       "output_type": "stream",
       "stream": "stderr",
       "text": [
        "59%\r"
       ]
      },
      {
       "output_type": "stream",
       "stream": "stderr",
       "text": [
        "60%\r"
       ]
      },
      {
       "output_type": "stream",
       "stream": "stderr",
       "text": [
        "61%\r"
       ]
      },
      {
       "output_type": "stream",
       "stream": "stderr",
       "text": [
        "62%\r"
       ]
      },
      {
       "output_type": "stream",
       "stream": "stderr",
       "text": [
        "63%\r"
       ]
      },
      {
       "output_type": "stream",
       "stream": "stderr",
       "text": [
        "64%\r"
       ]
      },
      {
       "output_type": "stream",
       "stream": "stderr",
       "text": [
        "65%\r"
       ]
      },
      {
       "output_type": "stream",
       "stream": "stderr",
       "text": [
        "66%\r"
       ]
      },
      {
       "output_type": "stream",
       "stream": "stderr",
       "text": [
        "67%\r"
       ]
      },
      {
       "output_type": "stream",
       "stream": "stderr",
       "text": [
        "68%\r"
       ]
      },
      {
       "output_type": "stream",
       "stream": "stderr",
       "text": [
        "69%\r"
       ]
      },
      {
       "output_type": "stream",
       "stream": "stderr",
       "text": [
        "70%\r"
       ]
      },
      {
       "output_type": "stream",
       "stream": "stderr",
       "text": [
        "71%\r"
       ]
      },
      {
       "output_type": "stream",
       "stream": "stderr",
       "text": [
        "72%\r"
       ]
      },
      {
       "output_type": "stream",
       "stream": "stderr",
       "text": [
        "73%\r"
       ]
      },
      {
       "output_type": "stream",
       "stream": "stderr",
       "text": [
        "74%\r"
       ]
      },
      {
       "output_type": "stream",
       "stream": "stderr",
       "text": [
        "75%\r"
       ]
      },
      {
       "output_type": "stream",
       "stream": "stderr",
       "text": [
        "76%\r"
       ]
      },
      {
       "output_type": "stream",
       "stream": "stderr",
       "text": [
        "77%\r"
       ]
      },
      {
       "output_type": "stream",
       "stream": "stderr",
       "text": [
        "78%\r"
       ]
      },
      {
       "output_type": "stream",
       "stream": "stderr",
       "text": [
        "79%\r"
       ]
      },
      {
       "output_type": "stream",
       "stream": "stderr",
       "text": [
        "80%\r"
       ]
      },
      {
       "output_type": "stream",
       "stream": "stderr",
       "text": [
        "81%\r"
       ]
      },
      {
       "output_type": "stream",
       "stream": "stderr",
       "text": [
        "82%\r"
       ]
      },
      {
       "output_type": "stream",
       "stream": "stderr",
       "text": [
        "83%\r"
       ]
      },
      {
       "output_type": "stream",
       "stream": "stderr",
       "text": [
        "84%\r"
       ]
      },
      {
       "output_type": "stream",
       "stream": "stderr",
       "text": [
        "85%\r"
       ]
      },
      {
       "output_type": "stream",
       "stream": "stderr",
       "text": [
        "86%\r"
       ]
      },
      {
       "output_type": "stream",
       "stream": "stderr",
       "text": [
        "87%\r"
       ]
      },
      {
       "output_type": "stream",
       "stream": "stderr",
       "text": [
        "88%\r"
       ]
      },
      {
       "output_type": "stream",
       "stream": "stderr",
       "text": [
        "89%\r"
       ]
      },
      {
       "output_type": "stream",
       "stream": "stderr",
       "text": [
        "90%\r"
       ]
      },
      {
       "output_type": "stream",
       "stream": "stderr",
       "text": [
        "91%\r"
       ]
      },
      {
       "output_type": "stream",
       "stream": "stderr",
       "text": [
        "92%\r"
       ]
      },
      {
       "output_type": "stream",
       "stream": "stderr",
       "text": [
        "93%\r"
       ]
      },
      {
       "output_type": "stream",
       "stream": "stderr",
       "text": [
        "94%\r"
       ]
      },
      {
       "output_type": "stream",
       "stream": "stderr",
       "text": [
        "95%\r"
       ]
      },
      {
       "output_type": "stream",
       "stream": "stderr",
       "text": [
        "96%\r"
       ]
      },
      {
       "output_type": "stream",
       "stream": "stderr",
       "text": [
        "97%\r"
       ]
      },
      {
       "output_type": "stream",
       "stream": "stderr",
       "text": [
        "98%\r"
       ]
      },
      {
       "output_type": "stream",
       "stream": "stderr",
       "text": [
        "99%\r"
       ]
      },
      {
       "output_type": "stream",
       "stream": "stderr",
       "text": [
        "100%\r"
       ]
      },
      {
       "output_type": "stream",
       "stream": "stderr",
       "text": [
        "100%\n"
       ]
      },
      {
       "output_type": "stream",
       "stream": "stdout",
       "text": [
        "\n",
        "  loss 0.290866849074\n",
        "  err  0.0855746243169\n",
        "  (0:00:53)\n",
        "Epoch 2:"
       ]
      },
      {
       "output_type": "stream",
       "stream": "stderr",
       "text": [
        "1%\r"
       ]
      },
      {
       "output_type": "stream",
       "stream": "stderr",
       "text": [
        "2%\r"
       ]
      },
      {
       "output_type": "stream",
       "stream": "stderr",
       "text": [
        "3%\r"
       ]
      },
      {
       "output_type": "stream",
       "stream": "stderr",
       "text": [
        "4%\r"
       ]
      },
      {
       "output_type": "stream",
       "stream": "stderr",
       "text": [
        "5%\r"
       ]
      },
      {
       "output_type": "stream",
       "stream": "stderr",
       "text": [
        "6%\r"
       ]
      },
      {
       "output_type": "stream",
       "stream": "stderr",
       "text": [
        "7%\r"
       ]
      },
      {
       "output_type": "stream",
       "stream": "stderr",
       "text": [
        "8%\r"
       ]
      },
      {
       "output_type": "stream",
       "stream": "stderr",
       "text": [
        "9%\r"
       ]
      },
      {
       "output_type": "stream",
       "stream": "stderr",
       "text": [
        "10%\r"
       ]
      },
      {
       "output_type": "stream",
       "stream": "stderr",
       "text": [
        "11%\r"
       ]
      },
      {
       "output_type": "stream",
       "stream": "stderr",
       "text": [
        "12%\r"
       ]
      },
      {
       "output_type": "stream",
       "stream": "stderr",
       "text": [
        "13%\r"
       ]
      },
      {
       "output_type": "stream",
       "stream": "stderr",
       "text": [
        "14%\r"
       ]
      },
      {
       "output_type": "stream",
       "stream": "stderr",
       "text": [
        "15%\r"
       ]
      },
      {
       "output_type": "stream",
       "stream": "stderr",
       "text": [
        "16%\r"
       ]
      },
      {
       "output_type": "stream",
       "stream": "stderr",
       "text": [
        "17%\r"
       ]
      },
      {
       "output_type": "stream",
       "stream": "stderr",
       "text": [
        "18%\r"
       ]
      },
      {
       "output_type": "stream",
       "stream": "stderr",
       "text": [
        "19%\r"
       ]
      },
      {
       "output_type": "stream",
       "stream": "stderr",
       "text": [
        "20%\r"
       ]
      },
      {
       "output_type": "stream",
       "stream": "stderr",
       "text": [
        "21%\r"
       ]
      },
      {
       "output_type": "stream",
       "stream": "stderr",
       "text": [
        "22%\r"
       ]
      },
      {
       "output_type": "stream",
       "stream": "stderr",
       "text": [
        "23%\r"
       ]
      },
      {
       "output_type": "stream",
       "stream": "stderr",
       "text": [
        "24%\r"
       ]
      },
      {
       "output_type": "stream",
       "stream": "stderr",
       "text": [
        "25%\r"
       ]
      },
      {
       "output_type": "stream",
       "stream": "stderr",
       "text": [
        "26%\r"
       ]
      },
      {
       "output_type": "stream",
       "stream": "stderr",
       "text": [
        "27%\r"
       ]
      },
      {
       "output_type": "stream",
       "stream": "stderr",
       "text": [
        "28%\r"
       ]
      },
      {
       "output_type": "stream",
       "stream": "stderr",
       "text": [
        "29%\r"
       ]
      },
      {
       "output_type": "stream",
       "stream": "stderr",
       "text": [
        "30%\r"
       ]
      },
      {
       "output_type": "stream",
       "stream": "stderr",
       "text": [
        "31%\r"
       ]
      },
      {
       "output_type": "stream",
       "stream": "stderr",
       "text": [
        "32%\r"
       ]
      },
      {
       "output_type": "stream",
       "stream": "stderr",
       "text": [
        "33%\r"
       ]
      },
      {
       "output_type": "stream",
       "stream": "stderr",
       "text": [
        "34%\r"
       ]
      },
      {
       "output_type": "stream",
       "stream": "stderr",
       "text": [
        "35%\r"
       ]
      },
      {
       "output_type": "stream",
       "stream": "stderr",
       "text": [
        "36%\r"
       ]
      },
      {
       "output_type": "stream",
       "stream": "stderr",
       "text": [
        "37%\r"
       ]
      },
      {
       "output_type": "stream",
       "stream": "stderr",
       "text": [
        "38%\r"
       ]
      },
      {
       "output_type": "stream",
       "stream": "stderr",
       "text": [
        "39%\r"
       ]
      },
      {
       "output_type": "stream",
       "stream": "stderr",
       "text": [
        "40%\r"
       ]
      },
      {
       "output_type": "stream",
       "stream": "stderr",
       "text": [
        "41%\r"
       ]
      },
      {
       "output_type": "stream",
       "stream": "stderr",
       "text": [
        "42%\r"
       ]
      },
      {
       "output_type": "stream",
       "stream": "stderr",
       "text": [
        "43%\r"
       ]
      },
      {
       "output_type": "stream",
       "stream": "stderr",
       "text": [
        "44%\r"
       ]
      },
      {
       "output_type": "stream",
       "stream": "stderr",
       "text": [
        "45%\r"
       ]
      },
      {
       "output_type": "stream",
       "stream": "stderr",
       "text": [
        "46%\r"
       ]
      },
      {
       "output_type": "stream",
       "stream": "stderr",
       "text": [
        "47%\r"
       ]
      },
      {
       "output_type": "stream",
       "stream": "stderr",
       "text": [
        "48%\r"
       ]
      },
      {
       "output_type": "stream",
       "stream": "stderr",
       "text": [
        "49%\r"
       ]
      },
      {
       "output_type": "stream",
       "stream": "stderr",
       "text": [
        "50%\r"
       ]
      },
      {
       "output_type": "stream",
       "stream": "stderr",
       "text": [
        "51%\r"
       ]
      },
      {
       "output_type": "stream",
       "stream": "stderr",
       "text": [
        "52%\r"
       ]
      },
      {
       "output_type": "stream",
       "stream": "stderr",
       "text": [
        "53%\r"
       ]
      },
      {
       "output_type": "stream",
       "stream": "stderr",
       "text": [
        "54%\r"
       ]
      },
      {
       "output_type": "stream",
       "stream": "stderr",
       "text": [
        "55%\r"
       ]
      },
      {
       "output_type": "stream",
       "stream": "stderr",
       "text": [
        "56%\r"
       ]
      },
      {
       "output_type": "stream",
       "stream": "stderr",
       "text": [
        "57%\r"
       ]
      },
      {
       "output_type": "stream",
       "stream": "stderr",
       "text": [
        "58%\r"
       ]
      },
      {
       "output_type": "stream",
       "stream": "stderr",
       "text": [
        "59%\r"
       ]
      },
      {
       "output_type": "stream",
       "stream": "stderr",
       "text": [
        "60%\r"
       ]
      },
      {
       "output_type": "stream",
       "stream": "stderr",
       "text": [
        "61%\r"
       ]
      },
      {
       "output_type": "stream",
       "stream": "stderr",
       "text": [
        "62%\r"
       ]
      },
      {
       "output_type": "stream",
       "stream": "stderr",
       "text": [
        "63%\r"
       ]
      },
      {
       "output_type": "stream",
       "stream": "stderr",
       "text": [
        "64%\r"
       ]
      },
      {
       "output_type": "stream",
       "stream": "stderr",
       "text": [
        "65%\r"
       ]
      },
      {
       "output_type": "stream",
       "stream": "stderr",
       "text": [
        "66%\r"
       ]
      },
      {
       "output_type": "stream",
       "stream": "stderr",
       "text": [
        "67%\r"
       ]
      },
      {
       "output_type": "stream",
       "stream": "stderr",
       "text": [
        "68%\r"
       ]
      },
      {
       "output_type": "stream",
       "stream": "stderr",
       "text": [
        "69%\r"
       ]
      },
      {
       "output_type": "stream",
       "stream": "stderr",
       "text": [
        "70%\r"
       ]
      },
      {
       "output_type": "stream",
       "stream": "stderr",
       "text": [
        "71%\r"
       ]
      },
      {
       "output_type": "stream",
       "stream": "stderr",
       "text": [
        "72%\r"
       ]
      },
      {
       "output_type": "stream",
       "stream": "stderr",
       "text": [
        "73%\r"
       ]
      },
      {
       "output_type": "stream",
       "stream": "stderr",
       "text": [
        "74%\r"
       ]
      },
      {
       "output_type": "stream",
       "stream": "stderr",
       "text": [
        "75%\r"
       ]
      },
      {
       "output_type": "stream",
       "stream": "stderr",
       "text": [
        "76%\r"
       ]
      },
      {
       "output_type": "stream",
       "stream": "stderr",
       "text": [
        "77%\r"
       ]
      },
      {
       "output_type": "stream",
       "stream": "stderr",
       "text": [
        "78%\r"
       ]
      },
      {
       "output_type": "stream",
       "stream": "stderr",
       "text": [
        "79%\r"
       ]
      },
      {
       "output_type": "stream",
       "stream": "stderr",
       "text": [
        "80%\r"
       ]
      },
      {
       "output_type": "stream",
       "stream": "stderr",
       "text": [
        "81%\r"
       ]
      },
      {
       "output_type": "stream",
       "stream": "stderr",
       "text": [
        "82%\r"
       ]
      },
      {
       "output_type": "stream",
       "stream": "stderr",
       "text": [
        "83%\r"
       ]
      },
      {
       "output_type": "stream",
       "stream": "stderr",
       "text": [
        "84%\r"
       ]
      },
      {
       "output_type": "stream",
       "stream": "stderr",
       "text": [
        "85%\r"
       ]
      },
      {
       "output_type": "stream",
       "stream": "stderr",
       "text": [
        "86%\r"
       ]
      },
      {
       "output_type": "stream",
       "stream": "stderr",
       "text": [
        "87%\r"
       ]
      },
      {
       "output_type": "stream",
       "stream": "stderr",
       "text": [
        "88%\r"
       ]
      },
      {
       "output_type": "stream",
       "stream": "stderr",
       "text": [
        "89%\r"
       ]
      },
      {
       "output_type": "stream",
       "stream": "stderr",
       "text": [
        "90%\r"
       ]
      },
      {
       "output_type": "stream",
       "stream": "stderr",
       "text": [
        "91%\r"
       ]
      },
      {
       "output_type": "stream",
       "stream": "stderr",
       "text": [
        "92%\r"
       ]
      },
      {
       "output_type": "stream",
       "stream": "stderr",
       "text": [
        "93%\r"
       ]
      },
      {
       "output_type": "stream",
       "stream": "stderr",
       "text": [
        "94%\r"
       ]
      },
      {
       "output_type": "stream",
       "stream": "stderr",
       "text": [
        "95%\r"
       ]
      },
      {
       "output_type": "stream",
       "stream": "stderr",
       "text": [
        "96%\r"
       ]
      },
      {
       "output_type": "stream",
       "stream": "stderr",
       "text": [
        "97%\r"
       ]
      },
      {
       "output_type": "stream",
       "stream": "stderr",
       "text": [
        "98%\r"
       ]
      },
      {
       "output_type": "stream",
       "stream": "stderr",
       "text": [
        "99%\r"
       ]
      },
      {
       "output_type": "stream",
       "stream": "stderr",
       "text": [
        "100%\r"
       ]
      },
      {
       "output_type": "stream",
       "stream": "stderr",
       "text": [
        "100%\n"
       ]
      },
      {
       "output_type": "stream",
       "stream": "stdout",
       "text": [
        "\n",
        "  loss 0.169209258804\n",
        "  err  0.0488387978142\n",
        "  (0:00:53)\n",
        "Epoch 3:"
       ]
      },
      {
       "output_type": "stream",
       "stream": "stderr",
       "text": [
        "1%\r"
       ]
      },
      {
       "output_type": "stream",
       "stream": "stderr",
       "text": [
        "2%\r"
       ]
      },
      {
       "output_type": "stream",
       "stream": "stderr",
       "text": [
        "3%\r"
       ]
      },
      {
       "output_type": "stream",
       "stream": "stderr",
       "text": [
        "4%\r"
       ]
      },
      {
       "output_type": "stream",
       "stream": "stderr",
       "text": [
        "5%\r"
       ]
      },
      {
       "output_type": "stream",
       "stream": "stderr",
       "text": [
        "6%\r"
       ]
      },
      {
       "output_type": "stream",
       "stream": "stderr",
       "text": [
        "7%\r"
       ]
      },
      {
       "output_type": "stream",
       "stream": "stderr",
       "text": [
        "8%\r"
       ]
      },
      {
       "output_type": "stream",
       "stream": "stderr",
       "text": [
        "9%\r"
       ]
      },
      {
       "output_type": "stream",
       "stream": "stderr",
       "text": [
        "10%\r"
       ]
      },
      {
       "output_type": "stream",
       "stream": "stderr",
       "text": [
        "11%\r"
       ]
      },
      {
       "output_type": "stream",
       "stream": "stderr",
       "text": [
        "12%\r"
       ]
      },
      {
       "output_type": "stream",
       "stream": "stderr",
       "text": [
        "13%\r"
       ]
      },
      {
       "output_type": "stream",
       "stream": "stderr",
       "text": [
        "14%\r"
       ]
      },
      {
       "output_type": "stream",
       "stream": "stderr",
       "text": [
        "15%\r"
       ]
      },
      {
       "output_type": "stream",
       "stream": "stderr",
       "text": [
        "16%\r"
       ]
      },
      {
       "output_type": "stream",
       "stream": "stderr",
       "text": [
        "17%\r"
       ]
      },
      {
       "output_type": "stream",
       "stream": "stderr",
       "text": [
        "18%\r"
       ]
      },
      {
       "output_type": "stream",
       "stream": "stderr",
       "text": [
        "19%\r"
       ]
      },
      {
       "output_type": "stream",
       "stream": "stderr",
       "text": [
        "20%\r"
       ]
      },
      {
       "output_type": "stream",
       "stream": "stderr",
       "text": [
        "21%\r"
       ]
      },
      {
       "output_type": "stream",
       "stream": "stderr",
       "text": [
        "22%\r"
       ]
      },
      {
       "output_type": "stream",
       "stream": "stderr",
       "text": [
        "23%\r"
       ]
      },
      {
       "output_type": "stream",
       "stream": "stderr",
       "text": [
        "24%\r"
       ]
      },
      {
       "output_type": "stream",
       "stream": "stderr",
       "text": [
        "25%\r"
       ]
      },
      {
       "output_type": "stream",
       "stream": "stderr",
       "text": [
        "26%\r"
       ]
      },
      {
       "output_type": "stream",
       "stream": "stderr",
       "text": [
        "27%\r"
       ]
      },
      {
       "output_type": "stream",
       "stream": "stderr",
       "text": [
        "28%\r"
       ]
      },
      {
       "output_type": "stream",
       "stream": "stderr",
       "text": [
        "29%\r"
       ]
      },
      {
       "output_type": "stream",
       "stream": "stderr",
       "text": [
        "30%\r"
       ]
      },
      {
       "output_type": "stream",
       "stream": "stderr",
       "text": [
        "31%\r"
       ]
      },
      {
       "output_type": "stream",
       "stream": "stderr",
       "text": [
        "32%\r"
       ]
      },
      {
       "output_type": "stream",
       "stream": "stderr",
       "text": [
        "33%\r"
       ]
      },
      {
       "output_type": "stream",
       "stream": "stderr",
       "text": [
        "34%\r"
       ]
      },
      {
       "output_type": "stream",
       "stream": "stderr",
       "text": [
        "35%\r"
       ]
      },
      {
       "output_type": "stream",
       "stream": "stderr",
       "text": [
        "36%\r"
       ]
      },
      {
       "output_type": "stream",
       "stream": "stderr",
       "text": [
        "37%\r"
       ]
      },
      {
       "output_type": "stream",
       "stream": "stderr",
       "text": [
        "38%\r"
       ]
      },
      {
       "output_type": "stream",
       "stream": "stderr",
       "text": [
        "39%\r"
       ]
      },
      {
       "output_type": "stream",
       "stream": "stderr",
       "text": [
        "40%\r"
       ]
      },
      {
       "output_type": "stream",
       "stream": "stderr",
       "text": [
        "41%\r"
       ]
      },
      {
       "output_type": "stream",
       "stream": "stderr",
       "text": [
        "42%\r"
       ]
      },
      {
       "output_type": "stream",
       "stream": "stderr",
       "text": [
        "43%\r"
       ]
      },
      {
       "output_type": "stream",
       "stream": "stderr",
       "text": [
        "44%\r"
       ]
      },
      {
       "output_type": "stream",
       "stream": "stderr",
       "text": [
        "45%\r"
       ]
      },
      {
       "output_type": "stream",
       "stream": "stderr",
       "text": [
        "46%\r"
       ]
      },
      {
       "output_type": "stream",
       "stream": "stderr",
       "text": [
        "47%\r"
       ]
      },
      {
       "output_type": "stream",
       "stream": "stderr",
       "text": [
        "48%\r"
       ]
      },
      {
       "output_type": "stream",
       "stream": "stderr",
       "text": [
        "49%\r"
       ]
      },
      {
       "output_type": "stream",
       "stream": "stderr",
       "text": [
        "50%\r"
       ]
      },
      {
       "output_type": "stream",
       "stream": "stderr",
       "text": [
        "51%\r"
       ]
      },
      {
       "output_type": "stream",
       "stream": "stderr",
       "text": [
        "52%\r"
       ]
      },
      {
       "output_type": "stream",
       "stream": "stderr",
       "text": [
        "53%\r"
       ]
      },
      {
       "output_type": "stream",
       "stream": "stderr",
       "text": [
        "54%\r"
       ]
      },
      {
       "output_type": "stream",
       "stream": "stderr",
       "text": [
        "55%\r"
       ]
      },
      {
       "output_type": "stream",
       "stream": "stderr",
       "text": [
        "56%\r"
       ]
      },
      {
       "output_type": "stream",
       "stream": "stderr",
       "text": [
        "57%\r"
       ]
      },
      {
       "output_type": "stream",
       "stream": "stderr",
       "text": [
        "58%\r"
       ]
      },
      {
       "output_type": "stream",
       "stream": "stderr",
       "text": [
        "59%\r"
       ]
      },
      {
       "output_type": "stream",
       "stream": "stderr",
       "text": [
        "60%\r"
       ]
      },
      {
       "output_type": "stream",
       "stream": "stderr",
       "text": [
        "61%\r"
       ]
      },
      {
       "output_type": "stream",
       "stream": "stderr",
       "text": [
        "62%\r"
       ]
      },
      {
       "output_type": "stream",
       "stream": "stderr",
       "text": [
        "63%\r"
       ]
      },
      {
       "output_type": "stream",
       "stream": "stderr",
       "text": [
        "64%\r"
       ]
      },
      {
       "output_type": "stream",
       "stream": "stderr",
       "text": [
        "65%\r"
       ]
      },
      {
       "output_type": "stream",
       "stream": "stderr",
       "text": [
        "66%\r"
       ]
      },
      {
       "output_type": "stream",
       "stream": "stderr",
       "text": [
        "67%\r"
       ]
      },
      {
       "output_type": "stream",
       "stream": "stderr",
       "text": [
        "68%\r"
       ]
      },
      {
       "output_type": "stream",
       "stream": "stderr",
       "text": [
        "69%\r"
       ]
      },
      {
       "output_type": "stream",
       "stream": "stderr",
       "text": [
        "70%\r"
       ]
      },
      {
       "output_type": "stream",
       "stream": "stderr",
       "text": [
        "71%\r"
       ]
      },
      {
       "output_type": "stream",
       "stream": "stderr",
       "text": [
        "72%\r"
       ]
      },
      {
       "output_type": "stream",
       "stream": "stderr",
       "text": [
        "73%\r"
       ]
      },
      {
       "output_type": "stream",
       "stream": "stderr",
       "text": [
        "74%\r"
       ]
      },
      {
       "output_type": "stream",
       "stream": "stderr",
       "text": [
        "75%\r"
       ]
      },
      {
       "output_type": "stream",
       "stream": "stderr",
       "text": [
        "76%\r"
       ]
      },
      {
       "output_type": "stream",
       "stream": "stderr",
       "text": [
        "77%\r"
       ]
      },
      {
       "output_type": "stream",
       "stream": "stderr",
       "text": [
        "78%\r"
       ]
      },
      {
       "output_type": "stream",
       "stream": "stderr",
       "text": [
        "79%\r"
       ]
      },
      {
       "output_type": "stream",
       "stream": "stderr",
       "text": [
        "80%\r"
       ]
      },
      {
       "output_type": "stream",
       "stream": "stderr",
       "text": [
        "81%\r"
       ]
      },
      {
       "output_type": "stream",
       "stream": "stderr",
       "text": [
        "82%\r"
       ]
      },
      {
       "output_type": "stream",
       "stream": "stderr",
       "text": [
        "83%\r"
       ]
      },
      {
       "output_type": "stream",
       "stream": "stderr",
       "text": [
        "84%\r"
       ]
      },
      {
       "output_type": "stream",
       "stream": "stderr",
       "text": [
        "85%\r"
       ]
      },
      {
       "output_type": "stream",
       "stream": "stderr",
       "text": [
        "86%\r"
       ]
      },
      {
       "output_type": "stream",
       "stream": "stderr",
       "text": [
        "87%\r"
       ]
      },
      {
       "output_type": "stream",
       "stream": "stderr",
       "text": [
        "88%\r"
       ]
      },
      {
       "output_type": "stream",
       "stream": "stderr",
       "text": [
        "89%\r"
       ]
      },
      {
       "output_type": "stream",
       "stream": "stderr",
       "text": [
        "90%\r"
       ]
      },
      {
       "output_type": "stream",
       "stream": "stderr",
       "text": [
        "91%\r"
       ]
      },
      {
       "output_type": "stream",
       "stream": "stderr",
       "text": [
        "92%\r"
       ]
      },
      {
       "output_type": "stream",
       "stream": "stderr",
       "text": [
        "93%\r"
       ]
      },
      {
       "output_type": "stream",
       "stream": "stderr",
       "text": [
        "94%\r"
       ]
      },
      {
       "output_type": "stream",
       "stream": "stderr",
       "text": [
        "95%\r"
       ]
      },
      {
       "output_type": "stream",
       "stream": "stderr",
       "text": [
        "96%\r"
       ]
      },
      {
       "output_type": "stream",
       "stream": "stderr",
       "text": [
        "97%\r"
       ]
      },
      {
       "output_type": "stream",
       "stream": "stderr",
       "text": [
        "98%\r"
       ]
      },
      {
       "output_type": "stream",
       "stream": "stderr",
       "text": [
        "99%\r"
       ]
      },
      {
       "output_type": "stream",
       "stream": "stderr",
       "text": [
        "100%\r"
       ]
      },
      {
       "output_type": "stream",
       "stream": "stderr",
       "text": [
        "100%\n"
       ]
      },
      {
       "output_type": "stream",
       "stream": "stdout",
       "text": [
        "\n",
        "  loss 0.133565386435\n",
        "  err  0.0380379098361\n",
        "  (0:00:52)\n",
        "Epoch 4:"
       ]
      },
      {
       "output_type": "stream",
       "stream": "stderr",
       "text": [
        "1%\r"
       ]
      },
      {
       "output_type": "stream",
       "stream": "stderr",
       "text": [
        "2%\r"
       ]
      },
      {
       "output_type": "stream",
       "stream": "stderr",
       "text": [
        "3%\r"
       ]
      },
      {
       "output_type": "stream",
       "stream": "stderr",
       "text": [
        "4%\r"
       ]
      },
      {
       "output_type": "stream",
       "stream": "stderr",
       "text": [
        "5%\r"
       ]
      },
      {
       "output_type": "stream",
       "stream": "stderr",
       "text": [
        "6%\r"
       ]
      },
      {
       "output_type": "stream",
       "stream": "stderr",
       "text": [
        "7%\r"
       ]
      },
      {
       "output_type": "stream",
       "stream": "stderr",
       "text": [
        "8%\r"
       ]
      },
      {
       "output_type": "stream",
       "stream": "stderr",
       "text": [
        "9%\r"
       ]
      },
      {
       "output_type": "stream",
       "stream": "stderr",
       "text": [
        "10%\r"
       ]
      },
      {
       "output_type": "stream",
       "stream": "stderr",
       "text": [
        "11%\r"
       ]
      },
      {
       "output_type": "stream",
       "stream": "stderr",
       "text": [
        "12%\r"
       ]
      },
      {
       "output_type": "stream",
       "stream": "stderr",
       "text": [
        "13%\r"
       ]
      },
      {
       "output_type": "stream",
       "stream": "stderr",
       "text": [
        "14%\r"
       ]
      },
      {
       "output_type": "stream",
       "stream": "stderr",
       "text": [
        "15%\r"
       ]
      },
      {
       "output_type": "stream",
       "stream": "stderr",
       "text": [
        "16%\r"
       ]
      },
      {
       "output_type": "stream",
       "stream": "stderr",
       "text": [
        "17%\r"
       ]
      },
      {
       "output_type": "stream",
       "stream": "stderr",
       "text": [
        "18%\r"
       ]
      },
      {
       "output_type": "stream",
       "stream": "stderr",
       "text": [
        "19%\r"
       ]
      },
      {
       "output_type": "stream",
       "stream": "stderr",
       "text": [
        "20%\r"
       ]
      },
      {
       "output_type": "stream",
       "stream": "stderr",
       "text": [
        "21%\r"
       ]
      },
      {
       "output_type": "stream",
       "stream": "stderr",
       "text": [
        "22%\r"
       ]
      },
      {
       "output_type": "stream",
       "stream": "stderr",
       "text": [
        "23%\r"
       ]
      },
      {
       "output_type": "stream",
       "stream": "stderr",
       "text": [
        "24%\r"
       ]
      },
      {
       "output_type": "stream",
       "stream": "stderr",
       "text": [
        "25%\r"
       ]
      },
      {
       "output_type": "stream",
       "stream": "stderr",
       "text": [
        "26%\r"
       ]
      },
      {
       "output_type": "stream",
       "stream": "stderr",
       "text": [
        "27%\r"
       ]
      },
      {
       "output_type": "stream",
       "stream": "stderr",
       "text": [
        "28%\r"
       ]
      },
      {
       "output_type": "stream",
       "stream": "stderr",
       "text": [
        "29%\r"
       ]
      },
      {
       "output_type": "stream",
       "stream": "stderr",
       "text": [
        "30%\r"
       ]
      },
      {
       "output_type": "stream",
       "stream": "stderr",
       "text": [
        "31%\r"
       ]
      },
      {
       "output_type": "stream",
       "stream": "stderr",
       "text": [
        "32%\r"
       ]
      },
      {
       "output_type": "stream",
       "stream": "stderr",
       "text": [
        "33%\r"
       ]
      },
      {
       "output_type": "stream",
       "stream": "stderr",
       "text": [
        "34%\r"
       ]
      },
      {
       "output_type": "stream",
       "stream": "stderr",
       "text": [
        "35%\r"
       ]
      },
      {
       "output_type": "stream",
       "stream": "stderr",
       "text": [
        "36%\r"
       ]
      },
      {
       "output_type": "stream",
       "stream": "stderr",
       "text": [
        "37%\r"
       ]
      },
      {
       "output_type": "stream",
       "stream": "stderr",
       "text": [
        "38%\r"
       ]
      },
      {
       "output_type": "stream",
       "stream": "stderr",
       "text": [
        "39%\r"
       ]
      },
      {
       "output_type": "stream",
       "stream": "stderr",
       "text": [
        "40%\r"
       ]
      },
      {
       "output_type": "stream",
       "stream": "stderr",
       "text": [
        "41%\r"
       ]
      },
      {
       "output_type": "stream",
       "stream": "stderr",
       "text": [
        "42%\r"
       ]
      },
      {
       "output_type": "stream",
       "stream": "stderr",
       "text": [
        "43%\r"
       ]
      },
      {
       "output_type": "stream",
       "stream": "stderr",
       "text": [
        "44%\r"
       ]
      },
      {
       "output_type": "stream",
       "stream": "stderr",
       "text": [
        "45%\r"
       ]
      },
      {
       "output_type": "stream",
       "stream": "stderr",
       "text": [
        "46%\r"
       ]
      },
      {
       "output_type": "stream",
       "stream": "stderr",
       "text": [
        "47%\r"
       ]
      },
      {
       "output_type": "stream",
       "stream": "stderr",
       "text": [
        "48%\r"
       ]
      },
      {
       "output_type": "stream",
       "stream": "stderr",
       "text": [
        "49%\r"
       ]
      },
      {
       "output_type": "stream",
       "stream": "stderr",
       "text": [
        "50%\r"
       ]
      },
      {
       "output_type": "stream",
       "stream": "stderr",
       "text": [
        "51%\r"
       ]
      },
      {
       "output_type": "stream",
       "stream": "stderr",
       "text": [
        "52%\r"
       ]
      },
      {
       "output_type": "stream",
       "stream": "stderr",
       "text": [
        "53%\r"
       ]
      },
      {
       "output_type": "stream",
       "stream": "stderr",
       "text": [
        "54%\r"
       ]
      },
      {
       "output_type": "stream",
       "stream": "stderr",
       "text": [
        "55%\r"
       ]
      },
      {
       "output_type": "stream",
       "stream": "stderr",
       "text": [
        "56%\r"
       ]
      },
      {
       "output_type": "stream",
       "stream": "stderr",
       "text": [
        "57%\r"
       ]
      },
      {
       "output_type": "stream",
       "stream": "stderr",
       "text": [
        "58%\r"
       ]
      },
      {
       "output_type": "stream",
       "stream": "stderr",
       "text": [
        "59%\r"
       ]
      },
      {
       "output_type": "stream",
       "stream": "stderr",
       "text": [
        "60%\r"
       ]
      },
      {
       "output_type": "stream",
       "stream": "stderr",
       "text": [
        "61%\r"
       ]
      },
      {
       "output_type": "stream",
       "stream": "stderr",
       "text": [
        "62%\r"
       ]
      },
      {
       "output_type": "stream",
       "stream": "stderr",
       "text": [
        "63%\r"
       ]
      },
      {
       "output_type": "stream",
       "stream": "stderr",
       "text": [
        "64%\r"
       ]
      },
      {
       "output_type": "stream",
       "stream": "stderr",
       "text": [
        "65%\r"
       ]
      },
      {
       "output_type": "stream",
       "stream": "stderr",
       "text": [
        "66%\r"
       ]
      },
      {
       "output_type": "stream",
       "stream": "stderr",
       "text": [
        "67%\r"
       ]
      },
      {
       "output_type": "stream",
       "stream": "stderr",
       "text": [
        "68%\r"
       ]
      },
      {
       "output_type": "stream",
       "stream": "stderr",
       "text": [
        "69%\r"
       ]
      },
      {
       "output_type": "stream",
       "stream": "stderr",
       "text": [
        "70%\r"
       ]
      },
      {
       "output_type": "stream",
       "stream": "stderr",
       "text": [
        "71%\r"
       ]
      },
      {
       "output_type": "stream",
       "stream": "stderr",
       "text": [
        "72%\r"
       ]
      },
      {
       "output_type": "stream",
       "stream": "stderr",
       "text": [
        "73%\r"
       ]
      },
      {
       "output_type": "stream",
       "stream": "stderr",
       "text": [
        "74%\r"
       ]
      },
      {
       "output_type": "stream",
       "stream": "stderr",
       "text": [
        "75%\r"
       ]
      },
      {
       "output_type": "stream",
       "stream": "stderr",
       "text": [
        "76%\r"
       ]
      },
      {
       "output_type": "stream",
       "stream": "stderr",
       "text": [
        "77%\r"
       ]
      },
      {
       "output_type": "stream",
       "stream": "stderr",
       "text": [
        "78%\r"
       ]
      },
      {
       "output_type": "stream",
       "stream": "stderr",
       "text": [
        "79%\r"
       ]
      },
      {
       "output_type": "stream",
       "stream": "stderr",
       "text": [
        "80%\r"
       ]
      },
      {
       "output_type": "stream",
       "stream": "stderr",
       "text": [
        "81%\r"
       ]
      },
      {
       "output_type": "stream",
       "stream": "stderr",
       "text": [
        "82%\r"
       ]
      },
      {
       "output_type": "stream",
       "stream": "stderr",
       "text": [
        "83%\r"
       ]
      },
      {
       "output_type": "stream",
       "stream": "stderr",
       "text": [
        "84%\r"
       ]
      },
      {
       "output_type": "stream",
       "stream": "stderr",
       "text": [
        "85%\r"
       ]
      },
      {
       "output_type": "stream",
       "stream": "stderr",
       "text": [
        "86%\r"
       ]
      },
      {
       "output_type": "stream",
       "stream": "stderr",
       "text": [
        "87%\r"
       ]
      },
      {
       "output_type": "stream",
       "stream": "stderr",
       "text": [
        "88%\r"
       ]
      },
      {
       "output_type": "stream",
       "stream": "stderr",
       "text": [
        "89%\r"
       ]
      },
      {
       "output_type": "stream",
       "stream": "stderr",
       "text": [
        "90%\r"
       ]
      },
      {
       "output_type": "stream",
       "stream": "stderr",
       "text": [
        "91%\r"
       ]
      },
      {
       "output_type": "stream",
       "stream": "stderr",
       "text": [
        "92%\r"
       ]
      },
      {
       "output_type": "stream",
       "stream": "stderr",
       "text": [
        "93%\r"
       ]
      },
      {
       "output_type": "stream",
       "stream": "stderr",
       "text": [
        "94%\r"
       ]
      },
      {
       "output_type": "stream",
       "stream": "stderr",
       "text": [
        "95%\r"
       ]
      },
      {
       "output_type": "stream",
       "stream": "stderr",
       "text": [
        "96%\r"
       ]
      },
      {
       "output_type": "stream",
       "stream": "stderr",
       "text": [
        "97%\r"
       ]
      },
      {
       "output_type": "stream",
       "stream": "stderr",
       "text": [
        "98%\r"
       ]
      },
      {
       "output_type": "stream",
       "stream": "stderr",
       "text": [
        "99%\r"
       ]
      },
      {
       "output_type": "stream",
       "stream": "stderr",
       "text": [
        "100%\r"
       ]
      },
      {
       "output_type": "stream",
       "stream": "stderr",
       "text": [
        "100%\n"
       ]
      },
      {
       "output_type": "stream",
       "stream": "stdout",
       "text": [
        "\n",
        "  loss 0.095751885051\n",
        "  err  0.028218920765\n",
        "  (0:00:51)\n",
        "Epoch 5:"
       ]
      },
      {
       "output_type": "stream",
       "stream": "stderr",
       "text": [
        "1%\r"
       ]
      },
      {
       "output_type": "stream",
       "stream": "stderr",
       "text": [
        "2%\r"
       ]
      },
      {
       "output_type": "stream",
       "stream": "stderr",
       "text": [
        "3%\r"
       ]
      },
      {
       "output_type": "stream",
       "stream": "stderr",
       "text": [
        "4%\r"
       ]
      },
      {
       "output_type": "stream",
       "stream": "stderr",
       "text": [
        "5%\r"
       ]
      },
      {
       "output_type": "stream",
       "stream": "stderr",
       "text": [
        "6%\r"
       ]
      },
      {
       "output_type": "stream",
       "stream": "stderr",
       "text": [
        "7%\r"
       ]
      },
      {
       "output_type": "stream",
       "stream": "stderr",
       "text": [
        "8%\r"
       ]
      },
      {
       "output_type": "stream",
       "stream": "stderr",
       "text": [
        "9%\r"
       ]
      },
      {
       "output_type": "stream",
       "stream": "stderr",
       "text": [
        "10%\r"
       ]
      },
      {
       "output_type": "stream",
       "stream": "stderr",
       "text": [
        "11%\r"
       ]
      },
      {
       "output_type": "stream",
       "stream": "stderr",
       "text": [
        "12%\r"
       ]
      },
      {
       "output_type": "stream",
       "stream": "stderr",
       "text": [
        "13%\r"
       ]
      },
      {
       "output_type": "stream",
       "stream": "stderr",
       "text": [
        "14%\r"
       ]
      },
      {
       "output_type": "stream",
       "stream": "stderr",
       "text": [
        "15%\r"
       ]
      },
      {
       "output_type": "stream",
       "stream": "stderr",
       "text": [
        "16%\r"
       ]
      },
      {
       "output_type": "stream",
       "stream": "stderr",
       "text": [
        "17%\r"
       ]
      },
      {
       "output_type": "stream",
       "stream": "stderr",
       "text": [
        "18%\r"
       ]
      },
      {
       "output_type": "stream",
       "stream": "stderr",
       "text": [
        "19%\r"
       ]
      },
      {
       "output_type": "stream",
       "stream": "stderr",
       "text": [
        "20%\r"
       ]
      },
      {
       "output_type": "stream",
       "stream": "stderr",
       "text": [
        "21%\r"
       ]
      },
      {
       "output_type": "stream",
       "stream": "stderr",
       "text": [
        "22%\r"
       ]
      },
      {
       "output_type": "stream",
       "stream": "stderr",
       "text": [
        "23%\r"
       ]
      },
      {
       "output_type": "stream",
       "stream": "stderr",
       "text": [
        "24%\r"
       ]
      },
      {
       "output_type": "stream",
       "stream": "stderr",
       "text": [
        "25%\r"
       ]
      },
      {
       "output_type": "stream",
       "stream": "stderr",
       "text": [
        "26%\r"
       ]
      },
      {
       "output_type": "stream",
       "stream": "stderr",
       "text": [
        "27%\r"
       ]
      },
      {
       "output_type": "stream",
       "stream": "stderr",
       "text": [
        "28%\r"
       ]
      },
      {
       "output_type": "stream",
       "stream": "stderr",
       "text": [
        "29%\r"
       ]
      },
      {
       "output_type": "stream",
       "stream": "stderr",
       "text": [
        "30%\r"
       ]
      },
      {
       "output_type": "stream",
       "stream": "stderr",
       "text": [
        "31%\r"
       ]
      },
      {
       "output_type": "stream",
       "stream": "stderr",
       "text": [
        "32%\r"
       ]
      },
      {
       "output_type": "stream",
       "stream": "stderr",
       "text": [
        "33%\r"
       ]
      },
      {
       "output_type": "stream",
       "stream": "stderr",
       "text": [
        "34%\r"
       ]
      },
      {
       "output_type": "stream",
       "stream": "stderr",
       "text": [
        "35%\r"
       ]
      },
      {
       "output_type": "stream",
       "stream": "stderr",
       "text": [
        "36%\r"
       ]
      },
      {
       "output_type": "stream",
       "stream": "stderr",
       "text": [
        "37%\r"
       ]
      },
      {
       "output_type": "stream",
       "stream": "stderr",
       "text": [
        "38%\r"
       ]
      },
      {
       "output_type": "stream",
       "stream": "stderr",
       "text": [
        "39%\r"
       ]
      },
      {
       "output_type": "stream",
       "stream": "stderr",
       "text": [
        "40%\r"
       ]
      },
      {
       "output_type": "stream",
       "stream": "stderr",
       "text": [
        "41%\r"
       ]
      },
      {
       "output_type": "stream",
       "stream": "stderr",
       "text": [
        "42%\r"
       ]
      },
      {
       "output_type": "stream",
       "stream": "stderr",
       "text": [
        "43%\r"
       ]
      },
      {
       "output_type": "stream",
       "stream": "stderr",
       "text": [
        "44%\r"
       ]
      },
      {
       "output_type": "stream",
       "stream": "stderr",
       "text": [
        "45%\r"
       ]
      },
      {
       "output_type": "stream",
       "stream": "stderr",
       "text": [
        "46%\r"
       ]
      },
      {
       "output_type": "stream",
       "stream": "stderr",
       "text": [
        "47%\r"
       ]
      },
      {
       "output_type": "stream",
       "stream": "stderr",
       "text": [
        "48%\r"
       ]
      },
      {
       "output_type": "stream",
       "stream": "stderr",
       "text": [
        "49%\r"
       ]
      },
      {
       "output_type": "stream",
       "stream": "stderr",
       "text": [
        "50%\r"
       ]
      },
      {
       "output_type": "stream",
       "stream": "stderr",
       "text": [
        "51%\r"
       ]
      },
      {
       "output_type": "stream",
       "stream": "stderr",
       "text": [
        "52%\r"
       ]
      },
      {
       "output_type": "stream",
       "stream": "stderr",
       "text": [
        "53%\r"
       ]
      },
      {
       "output_type": "stream",
       "stream": "stderr",
       "text": [
        "54%\r"
       ]
      },
      {
       "output_type": "stream",
       "stream": "stderr",
       "text": [
        "55%\r"
       ]
      },
      {
       "output_type": "stream",
       "stream": "stderr",
       "text": [
        "56%\r"
       ]
      },
      {
       "output_type": "stream",
       "stream": "stderr",
       "text": [
        "57%\r"
       ]
      },
      {
       "output_type": "stream",
       "stream": "stderr",
       "text": [
        "58%\r"
       ]
      },
      {
       "output_type": "stream",
       "stream": "stderr",
       "text": [
        "59%\r"
       ]
      },
      {
       "output_type": "stream",
       "stream": "stderr",
       "text": [
        "60%\r"
       ]
      },
      {
       "output_type": "stream",
       "stream": "stderr",
       "text": [
        "61%\r"
       ]
      },
      {
       "output_type": "stream",
       "stream": "stderr",
       "text": [
        "62%\r"
       ]
      },
      {
       "output_type": "stream",
       "stream": "stderr",
       "text": [
        "63%\r"
       ]
      },
      {
       "output_type": "stream",
       "stream": "stderr",
       "text": [
        "64%\r"
       ]
      },
      {
       "output_type": "stream",
       "stream": "stderr",
       "text": [
        "65%\r"
       ]
      },
      {
       "output_type": "stream",
       "stream": "stderr",
       "text": [
        "66%\r"
       ]
      },
      {
       "output_type": "stream",
       "stream": "stderr",
       "text": [
        "67%\r"
       ]
      },
      {
       "output_type": "stream",
       "stream": "stderr",
       "text": [
        "68%\r"
       ]
      },
      {
       "output_type": "stream",
       "stream": "stderr",
       "text": [
        "69%\r"
       ]
      },
      {
       "output_type": "stream",
       "stream": "stderr",
       "text": [
        "70%\r"
       ]
      },
      {
       "output_type": "stream",
       "stream": "stderr",
       "text": [
        "71%\r"
       ]
      },
      {
       "output_type": "stream",
       "stream": "stderr",
       "text": [
        "72%\r"
       ]
      },
      {
       "output_type": "stream",
       "stream": "stderr",
       "text": [
        "73%\r"
       ]
      },
      {
       "output_type": "stream",
       "stream": "stderr",
       "text": [
        "74%\r"
       ]
      },
      {
       "output_type": "stream",
       "stream": "stderr",
       "text": [
        "75%\r"
       ]
      },
      {
       "output_type": "stream",
       "stream": "stderr",
       "text": [
        "76%\r"
       ]
      },
      {
       "output_type": "stream",
       "stream": "stderr",
       "text": [
        "77%\r"
       ]
      },
      {
       "output_type": "stream",
       "stream": "stderr",
       "text": [
        "78%\r"
       ]
      },
      {
       "output_type": "stream",
       "stream": "stderr",
       "text": [
        "79%\r"
       ]
      },
      {
       "output_type": "stream",
       "stream": "stderr",
       "text": [
        "80%\r"
       ]
      },
      {
       "output_type": "stream",
       "stream": "stderr",
       "text": [
        "81%\r"
       ]
      },
      {
       "output_type": "stream",
       "stream": "stderr",
       "text": [
        "82%\r"
       ]
      },
      {
       "output_type": "stream",
       "stream": "stderr",
       "text": [
        "83%\r"
       ]
      },
      {
       "output_type": "stream",
       "stream": "stderr",
       "text": [
        "84%\r"
       ]
      },
      {
       "output_type": "stream",
       "stream": "stderr",
       "text": [
        "85%\r"
       ]
      },
      {
       "output_type": "stream",
       "stream": "stderr",
       "text": [
        "86%\r"
       ]
      },
      {
       "output_type": "stream",
       "stream": "stderr",
       "text": [
        "87%\r"
       ]
      },
      {
       "output_type": "stream",
       "stream": "stderr",
       "text": [
        "88%\r"
       ]
      },
      {
       "output_type": "stream",
       "stream": "stderr",
       "text": [
        "89%\r"
       ]
      },
      {
       "output_type": "stream",
       "stream": "stderr",
       "text": [
        "90%\r"
       ]
      },
      {
       "output_type": "stream",
       "stream": "stderr",
       "text": [
        "91%\r"
       ]
      },
      {
       "output_type": "stream",
       "stream": "stderr",
       "text": [
        "92%\r"
       ]
      },
      {
       "output_type": "stream",
       "stream": "stderr",
       "text": [
        "93%\r"
       ]
      },
      {
       "output_type": "stream",
       "stream": "stderr",
       "text": [
        "94%\r"
       ]
      },
      {
       "output_type": "stream",
       "stream": "stderr",
       "text": [
        "95%\r"
       ]
      },
      {
       "output_type": "stream",
       "stream": "stderr",
       "text": [
        "96%\r"
       ]
      },
      {
       "output_type": "stream",
       "stream": "stderr",
       "text": [
        "97%\r"
       ]
      },
      {
       "output_type": "stream",
       "stream": "stderr",
       "text": [
        "98%\r"
       ]
      },
      {
       "output_type": "stream",
       "stream": "stderr",
       "text": [
        "99%\r"
       ]
      },
      {
       "output_type": "stream",
       "stream": "stderr",
       "text": [
        "100%\r"
       ]
      },
      {
       "output_type": "stream",
       "stream": "stderr",
       "text": [
        "100%\n"
       ]
      },
      {
       "output_type": "stream",
       "stream": "stdout",
       "text": [
        "\n",
        "  loss 0.0733401988133\n",
        "  err  0.0221781079235\n",
        "  (0:00:51)\n",
        "Epoch 6:"
       ]
      },
      {
       "output_type": "stream",
       "stream": "stderr",
       "text": [
        "1%\r"
       ]
      },
      {
       "output_type": "stream",
       "stream": "stderr",
       "text": [
        "2%\r"
       ]
      },
      {
       "output_type": "stream",
       "stream": "stderr",
       "text": [
        "3%\r"
       ]
      },
      {
       "output_type": "stream",
       "stream": "stderr",
       "text": [
        "4%\r"
       ]
      },
      {
       "output_type": "stream",
       "stream": "stderr",
       "text": [
        "5%\r"
       ]
      },
      {
       "output_type": "stream",
       "stream": "stderr",
       "text": [
        "6%\r"
       ]
      },
      {
       "output_type": "stream",
       "stream": "stderr",
       "text": [
        "7%\r"
       ]
      },
      {
       "output_type": "stream",
       "stream": "stderr",
       "text": [
        "8%\r"
       ]
      },
      {
       "output_type": "stream",
       "stream": "stderr",
       "text": [
        "9%\r"
       ]
      },
      {
       "output_type": "stream",
       "stream": "stderr",
       "text": [
        "10%\r"
       ]
      },
      {
       "output_type": "stream",
       "stream": "stderr",
       "text": [
        "11%\r"
       ]
      },
      {
       "output_type": "stream",
       "stream": "stderr",
       "text": [
        "12%\r"
       ]
      },
      {
       "output_type": "stream",
       "stream": "stderr",
       "text": [
        "13%\r"
       ]
      },
      {
       "output_type": "stream",
       "stream": "stderr",
       "text": [
        "14%\r"
       ]
      },
      {
       "output_type": "stream",
       "stream": "stderr",
       "text": [
        "15%\r"
       ]
      },
      {
       "output_type": "stream",
       "stream": "stderr",
       "text": [
        "16%\r"
       ]
      },
      {
       "output_type": "stream",
       "stream": "stderr",
       "text": [
        "17%\r"
       ]
      },
      {
       "output_type": "stream",
       "stream": "stderr",
       "text": [
        "18%\r"
       ]
      },
      {
       "output_type": "stream",
       "stream": "stderr",
       "text": [
        "19%\r"
       ]
      },
      {
       "output_type": "stream",
       "stream": "stderr",
       "text": [
        "20%\r"
       ]
      },
      {
       "output_type": "stream",
       "stream": "stderr",
       "text": [
        "21%\r"
       ]
      },
      {
       "output_type": "stream",
       "stream": "stderr",
       "text": [
        "22%\r"
       ]
      },
      {
       "output_type": "stream",
       "stream": "stderr",
       "text": [
        "23%\r"
       ]
      },
      {
       "output_type": "stream",
       "stream": "stderr",
       "text": [
        "24%\r"
       ]
      },
      {
       "output_type": "stream",
       "stream": "stderr",
       "text": [
        "25%\r"
       ]
      },
      {
       "output_type": "stream",
       "stream": "stderr",
       "text": [
        "26%\r"
       ]
      },
      {
       "output_type": "stream",
       "stream": "stderr",
       "text": [
        "27%\r"
       ]
      },
      {
       "output_type": "stream",
       "stream": "stderr",
       "text": [
        "28%\r"
       ]
      },
      {
       "output_type": "stream",
       "stream": "stderr",
       "text": [
        "29%\r"
       ]
      },
      {
       "output_type": "stream",
       "stream": "stderr",
       "text": [
        "30%\r"
       ]
      },
      {
       "output_type": "stream",
       "stream": "stderr",
       "text": [
        "31%\r"
       ]
      },
      {
       "output_type": "stream",
       "stream": "stderr",
       "text": [
        "32%\r"
       ]
      },
      {
       "output_type": "stream",
       "stream": "stderr",
       "text": [
        "33%\r"
       ]
      },
      {
       "output_type": "stream",
       "stream": "stderr",
       "text": [
        "34%\r"
       ]
      },
      {
       "output_type": "stream",
       "stream": "stderr",
       "text": [
        "35%\r"
       ]
      },
      {
       "output_type": "stream",
       "stream": "stderr",
       "text": [
        "36%\r"
       ]
      },
      {
       "output_type": "stream",
       "stream": "stderr",
       "text": [
        "37%\r"
       ]
      },
      {
       "output_type": "stream",
       "stream": "stderr",
       "text": [
        "38%\r"
       ]
      },
      {
       "output_type": "stream",
       "stream": "stderr",
       "text": [
        "39%\r"
       ]
      },
      {
       "output_type": "stream",
       "stream": "stderr",
       "text": [
        "40%\r"
       ]
      },
      {
       "output_type": "stream",
       "stream": "stderr",
       "text": [
        "41%\r"
       ]
      },
      {
       "output_type": "stream",
       "stream": "stderr",
       "text": [
        "42%\r"
       ]
      },
      {
       "output_type": "stream",
       "stream": "stderr",
       "text": [
        "43%\r"
       ]
      },
      {
       "output_type": "stream",
       "stream": "stderr",
       "text": [
        "44%\r"
       ]
      },
      {
       "output_type": "stream",
       "stream": "stderr",
       "text": [
        "45%\r"
       ]
      },
      {
       "output_type": "stream",
       "stream": "stderr",
       "text": [
        "46%\r"
       ]
      },
      {
       "output_type": "stream",
       "stream": "stderr",
       "text": [
        "47%\r"
       ]
      },
      {
       "output_type": "stream",
       "stream": "stderr",
       "text": [
        "48%\r"
       ]
      },
      {
       "output_type": "stream",
       "stream": "stderr",
       "text": [
        "49%\r"
       ]
      },
      {
       "output_type": "stream",
       "stream": "stderr",
       "text": [
        "50%\r"
       ]
      },
      {
       "output_type": "stream",
       "stream": "stderr",
       "text": [
        "51%\r"
       ]
      },
      {
       "output_type": "stream",
       "stream": "stderr",
       "text": [
        "52%\r"
       ]
      },
      {
       "output_type": "stream",
       "stream": "stderr",
       "text": [
        "53%\r"
       ]
      },
      {
       "output_type": "stream",
       "stream": "stderr",
       "text": [
        "54%\r"
       ]
      },
      {
       "output_type": "stream",
       "stream": "stderr",
       "text": [
        "55%\r"
       ]
      },
      {
       "output_type": "stream",
       "stream": "stderr",
       "text": [
        "56%\r"
       ]
      },
      {
       "output_type": "stream",
       "stream": "stderr",
       "text": [
        "57%\r"
       ]
      },
      {
       "output_type": "stream",
       "stream": "stderr",
       "text": [
        "58%\r"
       ]
      },
      {
       "output_type": "stream",
       "stream": "stderr",
       "text": [
        "59%\r"
       ]
      },
      {
       "output_type": "stream",
       "stream": "stderr",
       "text": [
        "60%\r"
       ]
      },
      {
       "output_type": "stream",
       "stream": "stderr",
       "text": [
        "61%\r"
       ]
      },
      {
       "output_type": "stream",
       "stream": "stderr",
       "text": [
        "62%\r"
       ]
      },
      {
       "output_type": "stream",
       "stream": "stderr",
       "text": [
        "63%\r"
       ]
      },
      {
       "output_type": "stream",
       "stream": "stderr",
       "text": [
        "64%\r"
       ]
      },
      {
       "output_type": "stream",
       "stream": "stderr",
       "text": [
        "65%\r"
       ]
      },
      {
       "output_type": "stream",
       "stream": "stderr",
       "text": [
        "66%\r"
       ]
      },
      {
       "output_type": "stream",
       "stream": "stderr",
       "text": [
        "67%\r"
       ]
      },
      {
       "output_type": "stream",
       "stream": "stderr",
       "text": [
        "68%\r"
       ]
      },
      {
       "output_type": "stream",
       "stream": "stderr",
       "text": [
        "69%\r"
       ]
      },
      {
       "output_type": "stream",
       "stream": "stderr",
       "text": [
        "70%\r"
       ]
      },
      {
       "output_type": "stream",
       "stream": "stderr",
       "text": [
        "71%\r"
       ]
      },
      {
       "output_type": "stream",
       "stream": "stderr",
       "text": [
        "72%\r"
       ]
      },
      {
       "output_type": "stream",
       "stream": "stderr",
       "text": [
        "73%\r"
       ]
      },
      {
       "output_type": "stream",
       "stream": "stderr",
       "text": [
        "74%\r"
       ]
      },
      {
       "output_type": "stream",
       "stream": "stderr",
       "text": [
        "75%\r"
       ]
      },
      {
       "output_type": "stream",
       "stream": "stderr",
       "text": [
        "76%\r"
       ]
      },
      {
       "output_type": "stream",
       "stream": "stderr",
       "text": [
        "77%\r"
       ]
      },
      {
       "output_type": "stream",
       "stream": "stderr",
       "text": [
        "78%\r"
       ]
      },
      {
       "output_type": "stream",
       "stream": "stderr",
       "text": [
        "79%\r"
       ]
      },
      {
       "output_type": "stream",
       "stream": "stderr",
       "text": [
        "80%\r"
       ]
      },
      {
       "output_type": "stream",
       "stream": "stderr",
       "text": [
        "81%\r"
       ]
      },
      {
       "output_type": "stream",
       "stream": "stderr",
       "text": [
        "82%\r"
       ]
      },
      {
       "output_type": "stream",
       "stream": "stderr",
       "text": [
        "83%\r"
       ]
      },
      {
       "output_type": "stream",
       "stream": "stderr",
       "text": [
        "84%\r"
       ]
      },
      {
       "output_type": "stream",
       "stream": "stderr",
       "text": [
        "85%\r"
       ]
      },
      {
       "output_type": "stream",
       "stream": "stderr",
       "text": [
        "86%\r"
       ]
      },
      {
       "output_type": "stream",
       "stream": "stderr",
       "text": [
        "87%\r"
       ]
      },
      {
       "output_type": "stream",
       "stream": "stderr",
       "text": [
        "88%\r"
       ]
      },
      {
       "output_type": "stream",
       "stream": "stderr",
       "text": [
        "89%\r"
       ]
      },
      {
       "output_type": "stream",
       "stream": "stderr",
       "text": [
        "90%\r"
       ]
      },
      {
       "output_type": "stream",
       "stream": "stderr",
       "text": [
        "91%\r"
       ]
      },
      {
       "output_type": "stream",
       "stream": "stderr",
       "text": [
        "92%\r"
       ]
      },
      {
       "output_type": "stream",
       "stream": "stderr",
       "text": [
        "93%\r"
       ]
      },
      {
       "output_type": "stream",
       "stream": "stderr",
       "text": [
        "94%\r"
       ]
      },
      {
       "output_type": "stream",
       "stream": "stderr",
       "text": [
        "95%\r"
       ]
      },
      {
       "output_type": "stream",
       "stream": "stderr",
       "text": [
        "96%\r"
       ]
      },
      {
       "output_type": "stream",
       "stream": "stderr",
       "text": [
        "97%\r"
       ]
      },
      {
       "output_type": "stream",
       "stream": "stderr",
       "text": [
        "98%\r"
       ]
      },
      {
       "output_type": "stream",
       "stream": "stderr",
       "text": [
        "99%\r"
       ]
      },
      {
       "output_type": "stream",
       "stream": "stderr",
       "text": [
        "100%\r"
       ]
      },
      {
       "output_type": "stream",
       "stream": "stderr",
       "text": [
        "100%\n"
       ]
      },
      {
       "output_type": "stream",
       "stream": "stdout",
       "text": [
        "\n",
        "  loss 0.0551214300513\n",
        "  err  0.0169697745902\n",
        "  (0:00:51)\n",
        "Epoch 7:"
       ]
      },
      {
       "output_type": "stream",
       "stream": "stderr",
       "text": [
        "1%\r"
       ]
      },
      {
       "output_type": "stream",
       "stream": "stderr",
       "text": [
        "2%\r"
       ]
      },
      {
       "output_type": "stream",
       "stream": "stderr",
       "text": [
        "3%\r"
       ]
      },
      {
       "output_type": "stream",
       "stream": "stderr",
       "text": [
        "4%\r"
       ]
      },
      {
       "output_type": "stream",
       "stream": "stderr",
       "text": [
        "5%\r"
       ]
      },
      {
       "output_type": "stream",
       "stream": "stderr",
       "text": [
        "6%\r"
       ]
      },
      {
       "output_type": "stream",
       "stream": "stderr",
       "text": [
        "7%\r"
       ]
      },
      {
       "output_type": "stream",
       "stream": "stderr",
       "text": [
        "8%\r"
       ]
      },
      {
       "output_type": "stream",
       "stream": "stderr",
       "text": [
        "9%\r"
       ]
      },
      {
       "output_type": "stream",
       "stream": "stderr",
       "text": [
        "10%\r"
       ]
      },
      {
       "output_type": "stream",
       "stream": "stderr",
       "text": [
        "11%\r"
       ]
      },
      {
       "output_type": "stream",
       "stream": "stderr",
       "text": [
        "12%\r"
       ]
      },
      {
       "output_type": "stream",
       "stream": "stderr",
       "text": [
        "13%\r"
       ]
      },
      {
       "output_type": "stream",
       "stream": "stderr",
       "text": [
        "14%\r"
       ]
      },
      {
       "output_type": "stream",
       "stream": "stderr",
       "text": [
        "15%\r"
       ]
      },
      {
       "output_type": "stream",
       "stream": "stderr",
       "text": [
        "16%\r"
       ]
      },
      {
       "output_type": "stream",
       "stream": "stderr",
       "text": [
        "17%\r"
       ]
      },
      {
       "output_type": "stream",
       "stream": "stderr",
       "text": [
        "18%\r"
       ]
      },
      {
       "output_type": "stream",
       "stream": "stderr",
       "text": [
        "19%\r"
       ]
      },
      {
       "output_type": "stream",
       "stream": "stderr",
       "text": [
        "20%\r"
       ]
      },
      {
       "output_type": "stream",
       "stream": "stderr",
       "text": [
        "21%\r"
       ]
      },
      {
       "output_type": "stream",
       "stream": "stderr",
       "text": [
        "22%\r"
       ]
      },
      {
       "output_type": "stream",
       "stream": "stderr",
       "text": [
        "23%\r"
       ]
      },
      {
       "output_type": "stream",
       "stream": "stderr",
       "text": [
        "24%\r"
       ]
      },
      {
       "output_type": "stream",
       "stream": "stderr",
       "text": [
        "25%\r"
       ]
      },
      {
       "output_type": "stream",
       "stream": "stderr",
       "text": [
        "26%\r"
       ]
      },
      {
       "output_type": "stream",
       "stream": "stderr",
       "text": [
        "27%\r"
       ]
      },
      {
       "output_type": "stream",
       "stream": "stderr",
       "text": [
        "28%\r"
       ]
      },
      {
       "output_type": "stream",
       "stream": "stderr",
       "text": [
        "29%\r"
       ]
      },
      {
       "output_type": "stream",
       "stream": "stderr",
       "text": [
        "30%\r"
       ]
      },
      {
       "output_type": "stream",
       "stream": "stderr",
       "text": [
        "31%\r"
       ]
      },
      {
       "output_type": "stream",
       "stream": "stderr",
       "text": [
        "32%\r"
       ]
      },
      {
       "output_type": "stream",
       "stream": "stderr",
       "text": [
        "33%\r"
       ]
      },
      {
       "output_type": "stream",
       "stream": "stderr",
       "text": [
        "34%\r"
       ]
      },
      {
       "output_type": "stream",
       "stream": "stderr",
       "text": [
        "35%\r"
       ]
      },
      {
       "output_type": "stream",
       "stream": "stderr",
       "text": [
        "36%\r"
       ]
      },
      {
       "output_type": "stream",
       "stream": "stderr",
       "text": [
        "37%\r"
       ]
      },
      {
       "output_type": "stream",
       "stream": "stderr",
       "text": [
        "38%\r"
       ]
      },
      {
       "output_type": "stream",
       "stream": "stderr",
       "text": [
        "39%\r"
       ]
      },
      {
       "output_type": "stream",
       "stream": "stderr",
       "text": [
        "40%\r"
       ]
      },
      {
       "output_type": "stream",
       "stream": "stderr",
       "text": [
        "41%\r"
       ]
      },
      {
       "output_type": "stream",
       "stream": "stderr",
       "text": [
        "42%\r"
       ]
      },
      {
       "output_type": "stream",
       "stream": "stderr",
       "text": [
        "43%\r"
       ]
      },
      {
       "output_type": "stream",
       "stream": "stderr",
       "text": [
        "44%\r"
       ]
      },
      {
       "output_type": "stream",
       "stream": "stderr",
       "text": [
        "45%\r"
       ]
      },
      {
       "output_type": "stream",
       "stream": "stderr",
       "text": [
        "46%\r"
       ]
      },
      {
       "output_type": "stream",
       "stream": "stderr",
       "text": [
        "47%\r"
       ]
      },
      {
       "output_type": "stream",
       "stream": "stderr",
       "text": [
        "48%\r"
       ]
      },
      {
       "output_type": "stream",
       "stream": "stderr",
       "text": [
        "49%\r"
       ]
      },
      {
       "output_type": "stream",
       "stream": "stderr",
       "text": [
        "50%\r"
       ]
      },
      {
       "output_type": "stream",
       "stream": "stderr",
       "text": [
        "51%\r"
       ]
      },
      {
       "output_type": "stream",
       "stream": "stderr",
       "text": [
        "52%\r"
       ]
      },
      {
       "output_type": "stream",
       "stream": "stderr",
       "text": [
        "53%\r"
       ]
      },
      {
       "output_type": "stream",
       "stream": "stderr",
       "text": [
        "54%\r"
       ]
      },
      {
       "output_type": "stream",
       "stream": "stderr",
       "text": [
        "55%\r"
       ]
      },
      {
       "output_type": "stream",
       "stream": "stderr",
       "text": [
        "56%\r"
       ]
      },
      {
       "output_type": "stream",
       "stream": "stderr",
       "text": [
        "57%\r"
       ]
      },
      {
       "output_type": "stream",
       "stream": "stderr",
       "text": [
        "58%\r"
       ]
      },
      {
       "output_type": "stream",
       "stream": "stderr",
       "text": [
        "59%\r"
       ]
      },
      {
       "output_type": "stream",
       "stream": "stderr",
       "text": [
        "60%\r"
       ]
      },
      {
       "output_type": "stream",
       "stream": "stderr",
       "text": [
        "61%\r"
       ]
      },
      {
       "output_type": "stream",
       "stream": "stderr",
       "text": [
        "62%\r"
       ]
      },
      {
       "output_type": "stream",
       "stream": "stderr",
       "text": [
        "63%\r"
       ]
      },
      {
       "output_type": "stream",
       "stream": "stderr",
       "text": [
        "64%\r"
       ]
      },
      {
       "output_type": "stream",
       "stream": "stderr",
       "text": [
        "65%\r"
       ]
      },
      {
       "output_type": "stream",
       "stream": "stderr",
       "text": [
        "66%\r"
       ]
      },
      {
       "output_type": "stream",
       "stream": "stderr",
       "text": [
        "67%\r"
       ]
      },
      {
       "output_type": "stream",
       "stream": "stderr",
       "text": [
        "68%\r"
       ]
      },
      {
       "output_type": "stream",
       "stream": "stderr",
       "text": [
        "69%\r"
       ]
      },
      {
       "output_type": "stream",
       "stream": "stderr",
       "text": [
        "70%\r"
       ]
      },
      {
       "output_type": "stream",
       "stream": "stderr",
       "text": [
        "71%\r"
       ]
      },
      {
       "output_type": "stream",
       "stream": "stderr",
       "text": [
        "72%\r"
       ]
      },
      {
       "output_type": "stream",
       "stream": "stderr",
       "text": [
        "73%\r"
       ]
      },
      {
       "output_type": "stream",
       "stream": "stderr",
       "text": [
        "74%\r"
       ]
      },
      {
       "output_type": "stream",
       "stream": "stderr",
       "text": [
        "75%\r"
       ]
      },
      {
       "output_type": "stream",
       "stream": "stderr",
       "text": [
        "76%\r"
       ]
      },
      {
       "output_type": "stream",
       "stream": "stderr",
       "text": [
        "77%\r"
       ]
      },
      {
       "output_type": "stream",
       "stream": "stderr",
       "text": [
        "78%\r"
       ]
      },
      {
       "output_type": "stream",
       "stream": "stderr",
       "text": [
        "79%\r"
       ]
      },
      {
       "output_type": "stream",
       "stream": "stderr",
       "text": [
        "80%\r"
       ]
      },
      {
       "output_type": "stream",
       "stream": "stderr",
       "text": [
        "81%\r"
       ]
      },
      {
       "output_type": "stream",
       "stream": "stderr",
       "text": [
        "82%\r"
       ]
      },
      {
       "output_type": "stream",
       "stream": "stderr",
       "text": [
        "83%\r"
       ]
      },
      {
       "output_type": "stream",
       "stream": "stderr",
       "text": [
        "84%\r"
       ]
      },
      {
       "output_type": "stream",
       "stream": "stderr",
       "text": [
        "85%\r"
       ]
      },
      {
       "output_type": "stream",
       "stream": "stderr",
       "text": [
        "86%\r"
       ]
      },
      {
       "output_type": "stream",
       "stream": "stderr",
       "text": [
        "87%\r"
       ]
      },
      {
       "output_type": "stream",
       "stream": "stderr",
       "text": [
        "88%\r"
       ]
      },
      {
       "output_type": "stream",
       "stream": "stderr",
       "text": [
        "89%\r"
       ]
      },
      {
       "output_type": "stream",
       "stream": "stderr",
       "text": [
        "90%\r"
       ]
      },
      {
       "output_type": "stream",
       "stream": "stderr",
       "text": [
        "91%\r"
       ]
      },
      {
       "output_type": "stream",
       "stream": "stderr",
       "text": [
        "92%\r"
       ]
      },
      {
       "output_type": "stream",
       "stream": "stderr",
       "text": [
        "93%\r"
       ]
      },
      {
       "output_type": "stream",
       "stream": "stderr",
       "text": [
        "94%\r"
       ]
      },
      {
       "output_type": "stream",
       "stream": "stderr",
       "text": [
        "95%\r"
       ]
      },
      {
       "output_type": "stream",
       "stream": "stderr",
       "text": [
        "96%\r"
       ]
      },
      {
       "output_type": "stream",
       "stream": "stderr",
       "text": [
        "97%\r"
       ]
      },
      {
       "output_type": "stream",
       "stream": "stderr",
       "text": [
        "98%\r"
       ]
      },
      {
       "output_type": "stream",
       "stream": "stderr",
       "text": [
        "99%\r"
       ]
      },
      {
       "output_type": "stream",
       "stream": "stderr",
       "text": [
        "100%\r"
       ]
      },
      {
       "output_type": "stream",
       "stream": "stderr",
       "text": [
        "100%\n"
       ]
      },
      {
       "output_type": "stream",
       "stream": "stdout",
       "text": [
        "\n",
        "  loss 0.0401316039162\n",
        "  err  0.012593920765\n",
        "  (0:00:51)\n",
        "Epoch 8:"
       ]
      },
      {
       "output_type": "stream",
       "stream": "stderr",
       "text": [
        "1%\r"
       ]
      },
      {
       "output_type": "stream",
       "stream": "stderr",
       "text": [
        "2%\r"
       ]
      },
      {
       "output_type": "stream",
       "stream": "stderr",
       "text": [
        "3%\r"
       ]
      },
      {
       "output_type": "stream",
       "stream": "stderr",
       "text": [
        "4%\r"
       ]
      },
      {
       "output_type": "stream",
       "stream": "stderr",
       "text": [
        "5%\r"
       ]
      },
      {
       "output_type": "stream",
       "stream": "stderr",
       "text": [
        "6%\r"
       ]
      },
      {
       "output_type": "stream",
       "stream": "stderr",
       "text": [
        "7%\r"
       ]
      },
      {
       "output_type": "stream",
       "stream": "stderr",
       "text": [
        "8%\r"
       ]
      },
      {
       "output_type": "stream",
       "stream": "stderr",
       "text": [
        "9%\r"
       ]
      },
      {
       "output_type": "stream",
       "stream": "stderr",
       "text": [
        "10%\r"
       ]
      },
      {
       "output_type": "stream",
       "stream": "stderr",
       "text": [
        "11%\r"
       ]
      },
      {
       "output_type": "stream",
       "stream": "stderr",
       "text": [
        "12%\r"
       ]
      },
      {
       "output_type": "stream",
       "stream": "stderr",
       "text": [
        "13%\r"
       ]
      },
      {
       "output_type": "stream",
       "stream": "stderr",
       "text": [
        "14%\r"
       ]
      },
      {
       "output_type": "stream",
       "stream": "stderr",
       "text": [
        "15%\r"
       ]
      },
      {
       "output_type": "stream",
       "stream": "stderr",
       "text": [
        "16%\r"
       ]
      },
      {
       "output_type": "stream",
       "stream": "stderr",
       "text": [
        "17%\r"
       ]
      },
      {
       "output_type": "stream",
       "stream": "stderr",
       "text": [
        "18%\r"
       ]
      },
      {
       "output_type": "stream",
       "stream": "stderr",
       "text": [
        "19%\r"
       ]
      },
      {
       "output_type": "stream",
       "stream": "stderr",
       "text": [
        "20%\r"
       ]
      },
      {
       "output_type": "stream",
       "stream": "stderr",
       "text": [
        "21%\r"
       ]
      },
      {
       "output_type": "stream",
       "stream": "stderr",
       "text": [
        "22%\r"
       ]
      },
      {
       "output_type": "stream",
       "stream": "stderr",
       "text": [
        "23%\r"
       ]
      },
      {
       "output_type": "stream",
       "stream": "stderr",
       "text": [
        "24%\r"
       ]
      },
      {
       "output_type": "stream",
       "stream": "stderr",
       "text": [
        "25%\r"
       ]
      },
      {
       "output_type": "stream",
       "stream": "stderr",
       "text": [
        "26%\r"
       ]
      },
      {
       "output_type": "stream",
       "stream": "stderr",
       "text": [
        "27%\r"
       ]
      },
      {
       "output_type": "stream",
       "stream": "stderr",
       "text": [
        "28%\r"
       ]
      },
      {
       "output_type": "stream",
       "stream": "stderr",
       "text": [
        "29%\r"
       ]
      },
      {
       "output_type": "stream",
       "stream": "stderr",
       "text": [
        "30%\r"
       ]
      },
      {
       "output_type": "stream",
       "stream": "stderr",
       "text": [
        "31%\r"
       ]
      },
      {
       "output_type": "stream",
       "stream": "stderr",
       "text": [
        "32%\r"
       ]
      },
      {
       "output_type": "stream",
       "stream": "stderr",
       "text": [
        "33%\r"
       ]
      },
      {
       "output_type": "stream",
       "stream": "stderr",
       "text": [
        "34%\r"
       ]
      },
      {
       "output_type": "stream",
       "stream": "stderr",
       "text": [
        "35%\r"
       ]
      },
      {
       "output_type": "stream",
       "stream": "stderr",
       "text": [
        "36%\r"
       ]
      },
      {
       "output_type": "stream",
       "stream": "stderr",
       "text": [
        "37%\r"
       ]
      },
      {
       "output_type": "stream",
       "stream": "stderr",
       "text": [
        "38%\r"
       ]
      },
      {
       "output_type": "stream",
       "stream": "stderr",
       "text": [
        "39%\r"
       ]
      },
      {
       "output_type": "stream",
       "stream": "stderr",
       "text": [
        "40%\r"
       ]
      },
      {
       "output_type": "stream",
       "stream": "stderr",
       "text": [
        "41%\r"
       ]
      },
      {
       "output_type": "stream",
       "stream": "stderr",
       "text": [
        "42%\r"
       ]
      },
      {
       "output_type": "stream",
       "stream": "stderr",
       "text": [
        "43%\r"
       ]
      },
      {
       "output_type": "stream",
       "stream": "stderr",
       "text": [
        "44%\r"
       ]
      },
      {
       "output_type": "stream",
       "stream": "stderr",
       "text": [
        "45%\r"
       ]
      },
      {
       "output_type": "stream",
       "stream": "stderr",
       "text": [
        "46%\r"
       ]
      },
      {
       "output_type": "stream",
       "stream": "stderr",
       "text": [
        "47%\r"
       ]
      },
      {
       "output_type": "stream",
       "stream": "stderr",
       "text": [
        "48%\r"
       ]
      },
      {
       "output_type": "stream",
       "stream": "stderr",
       "text": [
        "49%\r"
       ]
      },
      {
       "output_type": "stream",
       "stream": "stderr",
       "text": [
        "50%\r"
       ]
      },
      {
       "output_type": "stream",
       "stream": "stderr",
       "text": [
        "51%\r"
       ]
      },
      {
       "output_type": "stream",
       "stream": "stderr",
       "text": [
        "52%\r"
       ]
      },
      {
       "output_type": "stream",
       "stream": "stderr",
       "text": [
        "53%\r"
       ]
      },
      {
       "output_type": "stream",
       "stream": "stderr",
       "text": [
        "54%\r"
       ]
      },
      {
       "output_type": "stream",
       "stream": "stderr",
       "text": [
        "55%\r"
       ]
      },
      {
       "output_type": "stream",
       "stream": "stderr",
       "text": [
        "56%\r"
       ]
      },
      {
       "output_type": "stream",
       "stream": "stderr",
       "text": [
        "57%\r"
       ]
      },
      {
       "output_type": "stream",
       "stream": "stderr",
       "text": [
        "58%\r"
       ]
      },
      {
       "output_type": "stream",
       "stream": "stderr",
       "text": [
        "59%\r"
       ]
      },
      {
       "output_type": "stream",
       "stream": "stderr",
       "text": [
        "60%\r"
       ]
      },
      {
       "output_type": "stream",
       "stream": "stderr",
       "text": [
        "61%\r"
       ]
      },
      {
       "output_type": "stream",
       "stream": "stderr",
       "text": [
        "62%\r"
       ]
      },
      {
       "output_type": "stream",
       "stream": "stderr",
       "text": [
        "63%\r"
       ]
      },
      {
       "output_type": "stream",
       "stream": "stderr",
       "text": [
        "64%\r"
       ]
      },
      {
       "output_type": "stream",
       "stream": "stderr",
       "text": [
        "65%\r"
       ]
      },
      {
       "output_type": "stream",
       "stream": "stderr",
       "text": [
        "66%\r"
       ]
      },
      {
       "output_type": "stream",
       "stream": "stderr",
       "text": [
        "67%\r"
       ]
      },
      {
       "output_type": "stream",
       "stream": "stderr",
       "text": [
        "68%\r"
       ]
      },
      {
       "output_type": "stream",
       "stream": "stderr",
       "text": [
        "69%\r"
       ]
      },
      {
       "output_type": "stream",
       "stream": "stderr",
       "text": [
        "70%\r"
       ]
      },
      {
       "output_type": "stream",
       "stream": "stderr",
       "text": [
        "71%\r"
       ]
      },
      {
       "output_type": "stream",
       "stream": "stderr",
       "text": [
        "72%\r"
       ]
      },
      {
       "output_type": "stream",
       "stream": "stderr",
       "text": [
        "73%\r"
       ]
      },
      {
       "output_type": "stream",
       "stream": "stderr",
       "text": [
        "74%\r"
       ]
      },
      {
       "output_type": "stream",
       "stream": "stderr",
       "text": [
        "75%\r"
       ]
      },
      {
       "output_type": "stream",
       "stream": "stderr",
       "text": [
        "76%\r"
       ]
      },
      {
       "output_type": "stream",
       "stream": "stderr",
       "text": [
        "77%\r"
       ]
      },
      {
       "output_type": "stream",
       "stream": "stderr",
       "text": [
        "78%\r"
       ]
      },
      {
       "output_type": "stream",
       "stream": "stderr",
       "text": [
        "79%\r"
       ]
      },
      {
       "output_type": "stream",
       "stream": "stderr",
       "text": [
        "80%\r"
       ]
      },
      {
       "output_type": "stream",
       "stream": "stderr",
       "text": [
        "81%\r"
       ]
      },
      {
       "output_type": "stream",
       "stream": "stderr",
       "text": [
        "82%\r"
       ]
      },
      {
       "output_type": "stream",
       "stream": "stderr",
       "text": [
        "83%\r"
       ]
      },
      {
       "output_type": "stream",
       "stream": "stderr",
       "text": [
        "84%\r"
       ]
      },
      {
       "output_type": "stream",
       "stream": "stderr",
       "text": [
        "85%\r"
       ]
      },
      {
       "output_type": "stream",
       "stream": "stderr",
       "text": [
        "86%\r"
       ]
      },
      {
       "output_type": "stream",
       "stream": "stderr",
       "text": [
        "87%\r"
       ]
      },
      {
       "output_type": "stream",
       "stream": "stderr",
       "text": [
        "88%\r"
       ]
      },
      {
       "output_type": "stream",
       "stream": "stderr",
       "text": [
        "89%\r"
       ]
      },
      {
       "output_type": "stream",
       "stream": "stderr",
       "text": [
        "90%\r"
       ]
      },
      {
       "output_type": "stream",
       "stream": "stderr",
       "text": [
        "91%\r"
       ]
      },
      {
       "output_type": "stream",
       "stream": "stderr",
       "text": [
        "92%\r"
       ]
      },
      {
       "output_type": "stream",
       "stream": "stderr",
       "text": [
        "93%\r"
       ]
      },
      {
       "output_type": "stream",
       "stream": "stderr",
       "text": [
        "94%\r"
       ]
      },
      {
       "output_type": "stream",
       "stream": "stderr",
       "text": [
        "95%\r"
       ]
      },
      {
       "output_type": "stream",
       "stream": "stderr",
       "text": [
        "96%\r"
       ]
      },
      {
       "output_type": "stream",
       "stream": "stderr",
       "text": [
        "97%\r"
       ]
      },
      {
       "output_type": "stream",
       "stream": "stderr",
       "text": [
        "98%\r"
       ]
      },
      {
       "output_type": "stream",
       "stream": "stderr",
       "text": [
        "99%\r"
       ]
      },
      {
       "output_type": "stream",
       "stream": "stderr",
       "text": [
        "100%\r"
       ]
      },
      {
       "output_type": "stream",
       "stream": "stderr",
       "text": [
        "100%\n"
       ]
      },
      {
       "output_type": "stream",
       "stream": "stdout",
       "text": [
        "\n",
        "  loss 0.0306728649492\n",
        "  err  0.00960553278689\n",
        "  (0:00:51)\n",
        "Epoch 9:"
       ]
      },
      {
       "output_type": "stream",
       "stream": "stderr",
       "text": [
        "1%\r"
       ]
      },
      {
       "output_type": "stream",
       "stream": "stderr",
       "text": [
        "2%\r"
       ]
      },
      {
       "output_type": "stream",
       "stream": "stderr",
       "text": [
        "3%\r"
       ]
      },
      {
       "output_type": "stream",
       "stream": "stderr",
       "text": [
        "4%\r"
       ]
      },
      {
       "output_type": "stream",
       "stream": "stderr",
       "text": [
        "5%\r"
       ]
      },
      {
       "output_type": "stream",
       "stream": "stderr",
       "text": [
        "6%\r"
       ]
      },
      {
       "output_type": "stream",
       "stream": "stderr",
       "text": [
        "7%\r"
       ]
      },
      {
       "output_type": "stream",
       "stream": "stderr",
       "text": [
        "8%\r"
       ]
      },
      {
       "output_type": "stream",
       "stream": "stderr",
       "text": [
        "9%\r"
       ]
      },
      {
       "output_type": "stream",
       "stream": "stderr",
       "text": [
        "10%\r"
       ]
      },
      {
       "output_type": "stream",
       "stream": "stderr",
       "text": [
        "11%\r"
       ]
      },
      {
       "output_type": "stream",
       "stream": "stderr",
       "text": [
        "12%\r"
       ]
      },
      {
       "output_type": "stream",
       "stream": "stderr",
       "text": [
        "13%\r"
       ]
      },
      {
       "output_type": "stream",
       "stream": "stderr",
       "text": [
        "14%\r"
       ]
      },
      {
       "output_type": "stream",
       "stream": "stderr",
       "text": [
        "15%\r"
       ]
      },
      {
       "output_type": "stream",
       "stream": "stderr",
       "text": [
        "16%\r"
       ]
      },
      {
       "output_type": "stream",
       "stream": "stderr",
       "text": [
        "17%\r"
       ]
      },
      {
       "output_type": "stream",
       "stream": "stderr",
       "text": [
        "18%\r"
       ]
      },
      {
       "output_type": "stream",
       "stream": "stderr",
       "text": [
        "19%\r"
       ]
      },
      {
       "output_type": "stream",
       "stream": "stderr",
       "text": [
        "20%\r"
       ]
      },
      {
       "output_type": "stream",
       "stream": "stderr",
       "text": [
        "21%\r"
       ]
      },
      {
       "output_type": "stream",
       "stream": "stderr",
       "text": [
        "22%\r"
       ]
      },
      {
       "output_type": "stream",
       "stream": "stderr",
       "text": [
        "23%\r"
       ]
      },
      {
       "output_type": "stream",
       "stream": "stderr",
       "text": [
        "24%\r"
       ]
      },
      {
       "output_type": "stream",
       "stream": "stderr",
       "text": [
        "25%\r"
       ]
      },
      {
       "output_type": "stream",
       "stream": "stderr",
       "text": [
        "26%\r"
       ]
      },
      {
       "output_type": "stream",
       "stream": "stderr",
       "text": [
        "27%\r"
       ]
      },
      {
       "output_type": "stream",
       "stream": "stderr",
       "text": [
        "28%\r"
       ]
      },
      {
       "output_type": "stream",
       "stream": "stderr",
       "text": [
        "29%\r"
       ]
      },
      {
       "output_type": "stream",
       "stream": "stderr",
       "text": [
        "30%\r"
       ]
      },
      {
       "output_type": "stream",
       "stream": "stderr",
       "text": [
        "31%\r"
       ]
      },
      {
       "output_type": "stream",
       "stream": "stderr",
       "text": [
        "32%\r"
       ]
      },
      {
       "output_type": "stream",
       "stream": "stderr",
       "text": [
        "33%\r"
       ]
      },
      {
       "output_type": "stream",
       "stream": "stderr",
       "text": [
        "34%\r"
       ]
      },
      {
       "output_type": "stream",
       "stream": "stderr",
       "text": [
        "35%\r"
       ]
      },
      {
       "output_type": "stream",
       "stream": "stderr",
       "text": [
        "36%\r"
       ]
      },
      {
       "output_type": "stream",
       "stream": "stderr",
       "text": [
        "37%\r"
       ]
      },
      {
       "output_type": "stream",
       "stream": "stderr",
       "text": [
        "38%\r"
       ]
      },
      {
       "output_type": "stream",
       "stream": "stderr",
       "text": [
        "39%\r"
       ]
      },
      {
       "output_type": "stream",
       "stream": "stderr",
       "text": [
        "40%\r"
       ]
      },
      {
       "output_type": "stream",
       "stream": "stderr",
       "text": [
        "41%\r"
       ]
      },
      {
       "output_type": "stream",
       "stream": "stderr",
       "text": [
        "42%\r"
       ]
      },
      {
       "output_type": "stream",
       "stream": "stderr",
       "text": [
        "43%\r"
       ]
      },
      {
       "output_type": "stream",
       "stream": "stderr",
       "text": [
        "44%\r"
       ]
      },
      {
       "output_type": "stream",
       "stream": "stderr",
       "text": [
        "45%\r"
       ]
      },
      {
       "output_type": "stream",
       "stream": "stderr",
       "text": [
        "46%\r"
       ]
      },
      {
       "output_type": "stream",
       "stream": "stderr",
       "text": [
        "47%\r"
       ]
      },
      {
       "output_type": "stream",
       "stream": "stderr",
       "text": [
        "48%\r"
       ]
      },
      {
       "output_type": "stream",
       "stream": "stderr",
       "text": [
        "49%\r"
       ]
      },
      {
       "output_type": "stream",
       "stream": "stderr",
       "text": [
        "50%\r"
       ]
      },
      {
       "output_type": "stream",
       "stream": "stderr",
       "text": [
        "51%\r"
       ]
      },
      {
       "output_type": "stream",
       "stream": "stderr",
       "text": [
        "52%\r"
       ]
      },
      {
       "output_type": "stream",
       "stream": "stderr",
       "text": [
        "53%\r"
       ]
      },
      {
       "output_type": "stream",
       "stream": "stderr",
       "text": [
        "54%\r"
       ]
      },
      {
       "output_type": "stream",
       "stream": "stderr",
       "text": [
        "55%\r"
       ]
      },
      {
       "output_type": "stream",
       "stream": "stderr",
       "text": [
        "56%\r"
       ]
      },
      {
       "output_type": "stream",
       "stream": "stderr",
       "text": [
        "57%\r"
       ]
      },
      {
       "output_type": "stream",
       "stream": "stderr",
       "text": [
        "58%\r"
       ]
      },
      {
       "output_type": "stream",
       "stream": "stderr",
       "text": [
        "59%\r"
       ]
      },
      {
       "output_type": "stream",
       "stream": "stderr",
       "text": [
        "60%\r"
       ]
      },
      {
       "output_type": "stream",
       "stream": "stderr",
       "text": [
        "61%\r"
       ]
      },
      {
       "output_type": "stream",
       "stream": "stderr",
       "text": [
        "62%\r"
       ]
      },
      {
       "output_type": "stream",
       "stream": "stderr",
       "text": [
        "63%\r"
       ]
      },
      {
       "output_type": "stream",
       "stream": "stderr",
       "text": [
        "64%\r"
       ]
      },
      {
       "output_type": "stream",
       "stream": "stderr",
       "text": [
        "65%\r"
       ]
      },
      {
       "output_type": "stream",
       "stream": "stderr",
       "text": [
        "66%\r"
       ]
      },
      {
       "output_type": "stream",
       "stream": "stderr",
       "text": [
        "67%\r"
       ]
      },
      {
       "output_type": "stream",
       "stream": "stderr",
       "text": [
        "68%\r"
       ]
      },
      {
       "output_type": "stream",
       "stream": "stderr",
       "text": [
        "69%\r"
       ]
      },
      {
       "output_type": "stream",
       "stream": "stderr",
       "text": [
        "70%\r"
       ]
      },
      {
       "output_type": "stream",
       "stream": "stderr",
       "text": [
        "71%\r"
       ]
      },
      {
       "output_type": "stream",
       "stream": "stderr",
       "text": [
        "72%\r"
       ]
      },
      {
       "output_type": "stream",
       "stream": "stderr",
       "text": [
        "73%\r"
       ]
      },
      {
       "output_type": "stream",
       "stream": "stderr",
       "text": [
        "74%\r"
       ]
      },
      {
       "output_type": "stream",
       "stream": "stderr",
       "text": [
        "75%\r"
       ]
      },
      {
       "output_type": "stream",
       "stream": "stderr",
       "text": [
        "76%\r"
       ]
      },
      {
       "output_type": "stream",
       "stream": "stderr",
       "text": [
        "77%\r"
       ]
      },
      {
       "output_type": "stream",
       "stream": "stderr",
       "text": [
        "78%\r"
       ]
      },
      {
       "output_type": "stream",
       "stream": "stderr",
       "text": [
        "79%\r"
       ]
      },
      {
       "output_type": "stream",
       "stream": "stderr",
       "text": [
        "80%\r"
       ]
      },
      {
       "output_type": "stream",
       "stream": "stderr",
       "text": [
        "81%\r"
       ]
      },
      {
       "output_type": "stream",
       "stream": "stderr",
       "text": [
        "82%\r"
       ]
      },
      {
       "output_type": "stream",
       "stream": "stderr",
       "text": [
        "83%\r"
       ]
      },
      {
       "output_type": "stream",
       "stream": "stderr",
       "text": [
        "84%\r"
       ]
      },
      {
       "output_type": "stream",
       "stream": "stderr",
       "text": [
        "85%\r"
       ]
      },
      {
       "output_type": "stream",
       "stream": "stderr",
       "text": [
        "86%\r"
       ]
      },
      {
       "output_type": "stream",
       "stream": "stderr",
       "text": [
        "87%\r"
       ]
      },
      {
       "output_type": "stream",
       "stream": "stderr",
       "text": [
        "88%\r"
       ]
      },
      {
       "output_type": "stream",
       "stream": "stderr",
       "text": [
        "89%\r"
       ]
      },
      {
       "output_type": "stream",
       "stream": "stderr",
       "text": [
        "90%\r"
       ]
      },
      {
       "output_type": "stream",
       "stream": "stderr",
       "text": [
        "91%\r"
       ]
      },
      {
       "output_type": "stream",
       "stream": "stderr",
       "text": [
        "92%\r"
       ]
      },
      {
       "output_type": "stream",
       "stream": "stderr",
       "text": [
        "93%\r"
       ]
      },
      {
       "output_type": "stream",
       "stream": "stderr",
       "text": [
        "94%\r"
       ]
      },
      {
       "output_type": "stream",
       "stream": "stderr",
       "text": [
        "95%\r"
       ]
      },
      {
       "output_type": "stream",
       "stream": "stderr",
       "text": [
        "96%\r"
       ]
      },
      {
       "output_type": "stream",
       "stream": "stderr",
       "text": [
        "97%\r"
       ]
      },
      {
       "output_type": "stream",
       "stream": "stderr",
       "text": [
        "98%\r"
       ]
      },
      {
       "output_type": "stream",
       "stream": "stderr",
       "text": [
        "99%\r"
       ]
      },
      {
       "output_type": "stream",
       "stream": "stderr",
       "text": [
        "100%\r"
       ]
      },
      {
       "output_type": "stream",
       "stream": "stderr",
       "text": [
        "100%\n"
       ]
      },
      {
       "output_type": "stream",
       "stream": "stdout",
       "text": [
        "\n",
        "  loss 0.0220202025904\n",
        "  err  0.00642503415301\n",
        "  (0:00:52)\n",
        "Epoch 10:"
       ]
      },
      {
       "output_type": "stream",
       "stream": "stdout",
       "text": [
        "\n",
        "  loss 0.0183462721378\n",
        "  err  0.0050162226776\n",
        "  (0:00:51)\n"
       ]
      }
     ],
     "prompt_number": 11
    },
    {
     "cell_type": "code",
     "collapsed": false,
     "input": [
      "# compute the predictions for the test data and show a classification\n",
      "# report\n",
      "preds = dbn.predict(testX)\n",
      "print classification_report(testY, preds)"
     ],
     "language": "python",
     "metadata": {},
     "outputs": [
      {
       "output_type": "stream",
       "stream": "stdout",
       "text": [
        "             precision    recall  f1-score   support\n",
        "\n",
        "          0       0.98      0.99      0.99      2332\n",
        "          1       0.99      0.99      0.99      2565\n",
        "          2       0.98      0.98      0.98      2314\n",
        "          3       0.97      0.97      0.97      2348\n",
        "          4       0.98      0.99      0.98      2193\n",
        "          5       0.98      0.97      0.97      2121\n",
        "          6       0.99      0.98      0.99      2216\n",
        "          7       0.98      0.98      0.98      2469\n",
        "          8       0.98      0.97      0.97      2232\n",
        "          9       0.98      0.97      0.97      2310\n",
        "\n",
        "avg / total       0.98      0.98      0.98     23100\n",
        "\n"
       ]
      }
     ],
     "prompt_number": 12
    },
    {
     "cell_type": "code",
     "collapsed": false,
     "input": [
      "# randomly select a few of the test instances\n",
      "for i in np.random.choice(np.arange(0, len(testY)), size = (10,)):\n",
      "\t# classify the digit\n",
      "\tpred = dbn.predict(np.atleast_2d(testX[i]))\n",
      "\n",
      "\t# reshape the feature vector to be a 28x28 pixel image, then change\n",
      "\t# the data type to be an unsigned 8-bit integer\n",
      "\timage = (testX[i] * 255).reshape((28, 28)).astype(\"uint8\")\n",
      "\n",
      "\t# show the image and prediction\n",
      "\tprint \"Actual digit is {0}, predicted {1}\".format(testY[i], pred[0])\n",
      "\tcv2.imshow(\"Digit\", image)\n",
      "\tcv2.waitKey(0)"
     ],
     "language": "python",
     "metadata": {},
     "outputs": [
      {
       "output_type": "stream",
       "stream": "stdout",
       "text": [
        "Actual digit is 3, predicted 3\n",
        "Actual digit is 8, predicted 8"
       ]
      },
      {
       "output_type": "stream",
       "stream": "stdout",
       "text": [
        "\n",
        "Actual digit is 8, predicted 8"
       ]
      },
      {
       "output_type": "stream",
       "stream": "stdout",
       "text": [
        "\n",
        "Actual digit is 4, predicted 4"
       ]
      },
      {
       "output_type": "stream",
       "stream": "stdout",
       "text": [
        "\n",
        "Actual digit is 9, predicted 9"
       ]
      }
     ]
    },
    {
     "cell_type": "code",
     "collapsed": false,
     "input": [],
     "language": "python",
     "metadata": {},
     "outputs": [],
     "prompt_number": 5
    },
    {
     "cell_type": "code",
     "collapsed": false,
     "input": [],
     "language": "python",
     "metadata": {},
     "outputs": []
    },
    {
     "cell_type": "code",
     "collapsed": false,
     "input": [],
     "language": "python",
     "metadata": {},
     "outputs": []
    },
    {
     "cell_type": "code",
     "collapsed": false,
     "input": [
      "import gdata.youtube\n",
      "import gdata.youtube.service"
     ],
     "language": "python",
     "metadata": {},
     "outputs": [],
     "prompt_number": 7
    },
    {
     "cell_type": "code",
     "collapsed": false,
     "input": [
      "youtube_service = gdata.youtube.service.YouTubeService()"
     ],
     "language": "python",
     "metadata": {},
     "outputs": [],
     "prompt_number": 8
    },
    {
     "cell_type": "code",
     "collapsed": false,
     "input": [
      "#letters behind '=' sign is video_id\n",
      "#https://www.youtube.com/watch?v=CxVycTVReho\n",
      "#my uploaded video regarding .applymap() function in python, with 1 comment by myself\n",
      "video_ids = [\"CxVycTVReho\"] \n",
      "#The Elegant Universe 1 of 3 Einstein's Dream \n",
      "video_ids += [ \"UV_X2B5OK1I\"] "
     ],
     "language": "python",
     "metadata": {},
     "outputs": [],
     "prompt_number": 20
    },
    {
     "cell_type": "code",
     "collapsed": false,
     "input": [
      "for id in video_ids:\n",
      "  for comment in youtube_service.GetYouTubeVideoCommentFeed(video_id = id).entry:\n",
      "    print '--------------------'\n",
      "    print comment.content.text"
     ],
     "language": "python",
     "metadata": {},
     "outputs": [
      {
       "output_type": "stream",
       "stream": "stdout",
       "text": [
        "--------------------\n",
        "One friend's suggestion, called parse dates, to do the same thing faster: \n",
        "http://stackoverflow.com/questions/16412099/parse-a-pandas-column-to-datetime\n",
        "But my example is good for general purpose, so people know how to write a \n",
        "general function to apply. ^^\ufeff\n",
        "--------------------"
       ]
      },
      {
       "output_type": "stream",
       "stream": "stdout",
       "text": [
        "\n",
        "Oh great now religious people are gonna say that God is a musician :P \ufeff\n",
        "--------------------\n",
        "Anyone who thinks that they can understand quantum mechanics has not \n",
        "understood it - Niels Bohr\ufeff\n",
        "--------------------\n",
        "*What Is The Truth About Life?*\n",
        "*Go To TruthContest\u2665Com And Read The Present To Find Out.*\n",
        "*Submit An Entry If You Can Explain It Better.*\ufeff\n",
        "--------------------\n",
        "None\n",
        "--------------------\n",
        "neone know wherei  can get a crash course in quantum physics lol\ufeff\n",
        "--------------------\n",
        "is the universe flat, with all the objects floating on the gravity field?\ufeff\n",
        "--------------------\n",
        "THE UNIVERSE part I /3\ufeff\n",
        "--------------------\n",
        "It Started With An Apple ????? NO .\n",
        "It Started Even Before !\n",
        "According To  \u2014Shatapatha Brahmana ( 8.7.3.10) (Hindu Sacred Book ) :-\n",
        "\n",
        "\"The sun strings these worlds - the earth, the planets, the atmosphere - to \n",
        "himself on a thread.\"\n",
        "I Think  We Say That It Was The First Idea About \"String Theory \" ?\n",
        "Don't We Need to Research More on This ?\ufeff\n",
        "--------------------\n",
        "o o o  I saw string theory once,maybe this prgrm. I could understand a bit \n",
        "of it, but could never remember a single word.  I'm listening now\ufeff\n",
        "--------------------\n",
        "I may be wrong but didn't Steven Hawking unify quantum physics and general \n",
        "relativity when discovering Hawking Radiation? If anybody knows if that is \n",
        "relevant here, or if it even relates to string theory, that would be great. \n",
        "\ufeff\n",
        "--------------------\n",
        "35:35 \"Do I feel I know quantum mechanics? No. (while shaking his head \n",
        "yes\".  That's the uncertainty principle in practice right there.\ufeff\n",
        "--------------------\n",
        "When Bohr atom have two electron resemble a simple universe at rest, can \n",
        "write down Einstein GR field equation of proton \n",
        "2(m*v^2/2)=m(1-1/(8*pi^3)^0.5) for his dream. (1/(8*pi^3)^0.5 is metric \n",
        "tensor for proton)\ufeff\n",
        "--------------------\n",
        "I'm enjoying this documentary, but they didn't have to make it so cheesy! \n",
        "lol!\ufeff\n",
        "--------------------\n",
        "The Elegant Universe 1 of 3 Einstein's Dream\ufeff\n",
        "--------------------\n",
        "None\n",
        "--------------------\n",
        "I think I did see this program, maybe that's how I lost my mind.  Im afraid \n",
        "that if I watch it twice, I will disappear and reappear in another \n",
        "dimension.\ufeff\n",
        "--------------------\n",
        "Thank you for sharing this program. :)\ufeff\n",
        "--------------------\n",
        "Lol finally america. Well done xxx\ufeff\n",
        "--------------------\n",
        "The only thing that I don't get is we keep saying 3 dimension of \n",
        "movement and 1 dimension is space time just say we are in a 4 dimension. \n",
        "Up-down, side to side, forward and backwards and time.\ufeff\n",
        "--------------------\n",
        "The Elegant Universe 1 of 3 Einstein's Dream\ufeff\n",
        "--------------------\n",
        "When Bohr atom have two electron resemble a simple universe at rest, can \n",
        "write down Einstein GR field equation of proton \n",
        "2(m*v^2/2)=m(1-1/(8*pi^3)^0.5) for his dream. (1/(8*pi^3)^0.5 is metric \n",
        "tensor for proton)\ufeff\n",
        "--------------------\n",
        "I don't understand what the problem is if the answer that the stuff gives \n",
        "you is crazy then the universe is crazy so what is the big deal if you \n",
        "think it is too crazy then you are wrong because if it is wrong then the \n",
        "too theories are wrong.\ufeff\n",
        "--------------------\n",
        "None\n"
       ]
      }
     ],
     "prompt_number": 33
    },
    {
     "cell_type": "code",
     "collapsed": false,
     "input": [],
     "language": "python",
     "metadata": {},
     "outputs": []
    }
   ],
   "metadata": {}
  }
 ]
}