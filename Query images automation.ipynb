{
 "metadata": {
  "name": "",
  "signature": "sha256:951ef08a6e39404a49faac78c5c0b5437b634d80a8cdde3d551ca5430ef214b4"
 },
 "nbformat": 3,
 "nbformat_minor": 0,
 "worksheets": [
  {
   "cells": [
    {
     "cell_type": "code",
     "collapsed": false,
     "input": [
      "import json\n",
      "import os\n",
      "import time\n",
      "import requests\n",
      "from PIL import Image\n",
      "from StringIO import StringIO\n",
      "from requests.exceptions import ConnectionError"
     ],
     "language": "python",
     "metadata": {},
     "outputs": [],
     "prompt_number": 1
    },
    {
     "cell_type": "code",
     "collapsed": false,
     "input": [
      "def go(query, path):\n",
      "  \"\"\"Download full size images from Google image search.\n",
      "\n",
      "  Don't print or republish images without permission.\n",
      "  I used this to train a learning algorithm.\n",
      "  \"\"\"\n",
      "  BASE_URL = 'https://ajax.googleapis.com/ajax/services/search/images?'\\\n",
      "             'v=1.0&q=' + query + '&start=%d'\n",
      " \n",
      "  BASE_PATH = os.path.join(path, query)\n",
      " \n",
      "  if not os.path.exists(BASE_PATH):\n",
      "    os.makedirs(BASE_PATH)\n",
      " \n",
      "  start = 0 # Google's start query string parameter for pagination.\n",
      "  while start < 60: # Google will only return a max of 56 results.\n",
      "    r = requests.get(BASE_URL % start)\n",
      "    for image_info in json.loads(r.text)['responseData']['results']:\n",
      "      url = image_info['unescapedUrl']\n",
      "      try:\n",
      "        image_r = requests.get(url)\n",
      "      except ConnectionError, e:\n",
      "        print 'could not download %s' % url\n",
      "        continue\n",
      " \n",
      "      # Remove file-system path characters from name.\n",
      "      title = image_info['titleNoFormatting'].replace('/', '').replace('\\\\', '')\n",
      " \n",
      "      file = open(os.path.join(BASE_PATH, '%s.jpg') % title, 'w')\n",
      "      try:\n",
      "        Image.open(StringIO(image_r.content)).save(file, 'JPEG')\n",
      "      except IOError, e:\n",
      "        # Throw away some gifs...blegh.\n",
      "        print 'could not save %s' % url\n",
      "        continue\n",
      "      finally:\n",
      "        file.close()\n",
      " \n",
      "    print start\n",
      "    start += 4 # 4 images per page.\n",
      " \n",
      "    # Be nice to Google and they'll be nice back :)\n",
      "    time.sleep(1.5)"
     ],
     "language": "python",
     "metadata": {},
     "outputs": [],
     "prompt_number": 7
    },
    {
     "cell_type": "code",
     "collapsed": false,
     "input": [
      "go('fresh flower', 'downloads')"
     ],
     "language": "python",
     "metadata": {},
     "outputs": [
      {
       "output_type": "stream",
       "stream": "stdout",
       "text": [
        "could not save http://www.freegreatpicture.com/files/59/27178-fresh-flowers.jpg\n",
        "could not save http://www.freegreatpicture.com/files/59/27151-fresh-flowers.jpg"
       ]
      },
      {
       "output_type": "stream",
       "stream": "stdout",
       "text": [
        "\n",
        "0"
       ]
      },
      {
       "output_type": "stream",
       "stream": "stdout",
       "text": [
        "\n",
        "4"
       ]
      },
      {
       "output_type": "stream",
       "stream": "stdout",
       "text": [
        "\n",
        "8"
       ]
      },
      {
       "output_type": "stream",
       "stream": "stdout",
       "text": [
        "\n",
        "could not save http://www.freegreatpicture.com/files/59/27142-fresh-flowers.jpg"
       ]
      },
      {
       "output_type": "stream",
       "stream": "stdout",
       "text": [
        "\n",
        "could not save http://www.freegreatpicture.com/files/59/27160-fresh-flowers.jpg"
       ]
      },
      {
       "output_type": "stream",
       "stream": "stdout",
       "text": [
        "\n",
        "12"
       ]
      },
      {
       "output_type": "stream",
       "stream": "stdout",
       "text": [
        "\n",
        "16"
       ]
      },
      {
       "output_type": "stream",
       "stream": "stdout",
       "text": [
        "\n",
        "could not save http://www.freegreatpicture.com/files/59/27169-fresh-flowers.jpg"
       ]
      },
      {
       "output_type": "stream",
       "stream": "stdout",
       "text": [
        "\n",
        "20\n",
        "could not save http://www.allgraphics123.com/ag/01/10241/10241.gif"
       ]
      },
      {
       "output_type": "stream",
       "stream": "stdout",
       "text": [
        "\n",
        "could not save http://www.sunflowers.ie/store/uploads/Fresh%20flower%20wreath.JPG"
       ]
      },
      {
       "output_type": "stream",
       "stream": "stdout",
       "text": [
        "\n",
        "24\n",
        "28"
       ]
      },
      {
       "output_type": "stream",
       "stream": "stdout",
       "text": [
        "\n",
        "32"
       ]
      },
      {
       "output_type": "stream",
       "stream": "stdout",
       "text": [
        "\n",
        "36"
       ]
      },
      {
       "output_type": "stream",
       "stream": "stdout",
       "text": [
        "\n",
        "40"
       ]
      },
      {
       "output_type": "stream",
       "stream": "stdout",
       "text": [
        "\n",
        "44"
       ]
      },
      {
       "output_type": "stream",
       "stream": "stdout",
       "text": [
        "\n",
        "48"
       ]
      },
      {
       "output_type": "stream",
       "stream": "stdout",
       "text": [
        "\n",
        "52"
       ]
      },
      {
       "output_type": "stream",
       "stream": "stdout",
       "text": [
        "\n",
        "56"
       ]
      },
      {
       "output_type": "stream",
       "stream": "stdout",
       "text": [
        "\n"
       ]
      }
     ],
     "prompt_number": 8
    },
    {
     "cell_type": "code",
     "collapsed": false,
     "input": [
      "go('withered flower', 'downloads')"
     ],
     "language": "python",
     "metadata": {},
     "outputs": [
      {
       "output_type": "stream",
       "stream": "stdout",
       "text": [
        "0\n",
        "4"
       ]
      },
      {
       "output_type": "stream",
       "stream": "stdout",
       "text": [
        "\n",
        "8"
       ]
      },
      {
       "output_type": "stream",
       "stream": "stdout",
       "text": [
        "\n",
        "12"
       ]
      },
      {
       "output_type": "stream",
       "stream": "stdout",
       "text": [
        "\n",
        "16"
       ]
      },
      {
       "output_type": "stream",
       "stream": "stdout",
       "text": [
        "\n",
        "could not save http://hqwallbase.com/images/big/withered_flower-1540899.jpg"
       ]
      },
      {
       "output_type": "stream",
       "stream": "stdout",
       "text": [
        "\n",
        "20"
       ]
      },
      {
       "output_type": "stream",
       "stream": "stdout",
       "text": [
        "\n",
        "24"
       ]
      },
      {
       "output_type": "stream",
       "stream": "stdout",
       "text": [
        "\n",
        "28"
       ]
      },
      {
       "output_type": "stream",
       "stream": "stdout",
       "text": [
        "\n",
        "32"
       ]
      },
      {
       "output_type": "stream",
       "stream": "stdout",
       "text": [
        "\n",
        "could not save http://wallpaperswide.com/download/withered_yellow_flowers-wallpaper-1920x1200.jpg"
       ]
      },
      {
       "output_type": "stream",
       "stream": "stdout",
       "text": [
        "\n",
        "36"
       ]
      },
      {
       "output_type": "stream",
       "stream": "stdout",
       "text": [
        "\n",
        "40"
       ]
      },
      {
       "output_type": "stream",
       "stream": "stdout",
       "text": [
        "\n",
        "44"
       ]
      },
      {
       "output_type": "stream",
       "stream": "stdout",
       "text": [
        "\n",
        "could not save http://www.background-free.com/albums/flowers/flower/withered-poppies.jpg"
       ]
      },
      {
       "output_type": "stream",
       "stream": "stdout",
       "text": [
        "\n",
        "48\n",
        "52"
       ]
      },
      {
       "output_type": "stream",
       "stream": "stdout",
       "text": [
        "\n",
        "56"
       ]
      },
      {
       "output_type": "stream",
       "stream": "stdout",
       "text": [
        "\n"
       ]
      }
     ],
     "prompt_number": 9
    },
    {
     "cell_type": "code",
     "collapsed": false,
     "input": [],
     "language": "python",
     "metadata": {},
     "outputs": [],
     "prompt_number": 0
    },
    {
     "cell_type": "code",
     "collapsed": false,
     "input": [],
     "language": "python",
     "metadata": {},
     "outputs": []
    }
   ],
   "metadata": {}
  }
 ]
}